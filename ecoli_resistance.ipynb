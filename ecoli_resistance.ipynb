{
 "cells": [
  {
   "cell_type": "markdown",
   "metadata": {},
   "source": [
    "## First load the reference genome"
   ]
  },
  {
   "cell_type": "code",
   "execution_count": 1,
   "metadata": {},
   "outputs": [
    {
     "name": "stdout",
     "output_type": "stream",
     "text": [
      "--2019-11-15 13:35:35--  ftp://ftp.ncbi.nlm.nih.gov/genomes/all/GCF/000/005/845/GCF_000005845.2_ASM584v2//GCF_000005845.2_ASM584v2_genomic.fna.gz\n",
      "           => «GCF_000005845.2_ASM584v2_genomic.fna.gz»\n",
      "Распознаётся ftp.ncbi.nlm.nih.gov (ftp.ncbi.nlm.nih.gov)… 130.14.250.10\n",
      "Подключение к ftp.ncbi.nlm.nih.gov (ftp.ncbi.nlm.nih.gov)|130.14.250.10|:21... соединение установлено.\n",
      "Выполняется вход под именем anonymous … Выполнен вход в систему!\n",
      "==> SYST ... готово.  ==> PWD ... готово.\n",
      "==> TYPE I ... готово.   ==> CWD (1) /genomes/all/GCF/000/005/845/GCF_000005845.2_ASM584v2/ ... готово.\n",
      "==> SIZE GCF_000005845.2_ASM584v2_genomic.fna.gz ... 1379902\n",
      "==> PASV ... готово.  ==> RETR GCF_000005845.2_ASM584v2_genomic.fna.gz ... готово.\n",
      "Размер (байт): 1379902 (1,3M) (не достоверно)\n",
      "\n",
      "GCF_000005845.2_ASM 100%[===================>]   1,32M  1,19MB/s    за 1,1s    \n",
      "\n",
      "2019-11-15 13:35:40 (1,19 MB/s) - «GCF_000005845.2_ASM584v2_genomic.fna.gz» сохранён [1379902]\n",
      "\n"
     ]
    }
   ],
   "source": [
    "!wget ftp://ftp.ncbi.nlm.nih.gov/genomes/all/GCF/000/005/845/GCF_000005845.2_ASM584v2//GCF_000005845.2_ASM584v2_genomic.fna.gz"
   ]
  },
  {
   "cell_type": "code",
   "execution_count": 2,
   "metadata": {},
   "outputs": [
    {
     "name": "stdout",
     "output_type": "stream",
     "text": [
      "--2019-11-15 13:36:05--  ftp://ftp.ncbi.nlm.nih.gov/genomes/all/GCF/000/005/845/GCF_000005845.2_ASM584v2//GCF_000005845.2_ASM584v2_genomic.gff.gz\n",
      "           => «GCF_000005845.2_ASM584v2_genomic.gff.gz»\n",
      "Распознаётся ftp.ncbi.nlm.nih.gov (ftp.ncbi.nlm.nih.gov)… 130.14.250.10\n",
      "Подключение к ftp.ncbi.nlm.nih.gov (ftp.ncbi.nlm.nih.gov)|130.14.250.10|:21... соединение установлено.\n",
      "Выполняется вход под именем anonymous … Выполнен вход в систему!\n",
      "==> SYST ... готово.  ==> PWD ... готово.\n",
      "==> TYPE I ... готово.   ==> CWD (1) /genomes/all/GCF/000/005/845/GCF_000005845.2_ASM584v2/ ... готово.\n",
      "==> SIZE GCF_000005845.2_ASM584v2_genomic.gff.gz ... 461669\n",
      "==> PASV ... готово.  ==> RETR GCF_000005845.2_ASM584v2_genomic.gff.gz ... готово.\n",
      "Размер (байт): 461669 (451K) (не достоверно)\n",
      "\n",
      "GCF_000005845.2_ASM 100%[===================>] 450,85K   635KB/s    за 0,7s    \n",
      "\n",
      "2019-11-15 13:36:09 (635 KB/s) - «GCF_000005845.2_ASM584v2_genomic.gff.gz» сохранён [461669]\n",
      "\n"
     ]
    }
   ],
   "source": [
    "!wget ftp://ftp.ncbi.nlm.nih.gov/genomes/all/GCF/000/005/845/GCF_000005845.2_ASM584v2//GCF_000005845.2_ASM584v2_genomic.gff.gz"
   ]
  },
  {
   "cell_type": "markdown",
   "metadata": {},
   "source": [
    "### Show the first lines"
   ]
  },
  {
   "cell_type": "code",
   "execution_count": 3,
   "metadata": {},
   "outputs": [
    {
     "name": "stdout",
     "output_type": "stream",
     "text": [
      "@SRR1363257.37 GWZHISEQ01:153:C1W31ACXX:5:1101:14027:2198 length=101\r\n",
      "GGTTGCAGATTCGCAGTGTCGCTGTTCCAGCGCATCACATCTTTGATGTTCACGCCGTGGCGTTTAGCAATGCTTGAAAGCGAATCGCCTTTGCCCACACG\r\n",
      "+\r\n",
      "@?:=:;DBFADH;CAECEE@@E:FFHGAE4?C?DE<BFGEC>?>FHE4BFFIIFHIBABEECA83;>>@>@CCCDC9@@CC08<@?@BB@9:CC#######\r\n",
      "@SRR1363257.46 GWZHISEQ01:153:C1W31ACXX:5:1101:19721:2155 length=101\r\n",
      "GTATGAGGTTTTGCTGCATTCTCTGNGCGAATATTAACTCCNTNNNNNTTATAGTTCAAAGCAAGTACCTGTCTCTTATACACATCTCCGAGCCCACGAGC\r\n",
      "+\r\n",
      "@@<?=D?D==?<AFGDF+AIHEACH#22<:?E8??:9??GG#0#####000;CF=C)4.==CA@@@)=7?C7?E37;3@>;;(.;>AB#############\r\n",
      "@SRR1363257.77 GWZHISEQ01:153:C1W31ACXX:5:1101:5069:2307 length=101\r\n",
      "GCTTCTCTTAACTGAGGTCACCATCATGCCGTTAAGTCCCTACCTCTCTTTTGCCGGTAACTGTTCCGCCGCGATTGCCTTTTATCTGTCTCTTATACACC\r\n",
      "+\r\n",
      "??<DBD;4C2=<BB>:AC;<CF<CE@FE9@E1C@891CD*9:?:3D@DD4?D<DD:0;@A=AEIDDA##################################\r\n",
      "@SRR1363257.78 GWZHISEQ01:153:C1W31ACXX:5:1101:5178:2440 length=101\r\n",
      "GCATAAGGACGATCGCTCCAGAGTAAAATAAATACGCGCATGTGATACTCACAATACCAATGGTGAAGTTACGGGACTTAAACAAACTGAGATCAAGAATC\r\n",
      "+\r\n",
      "CCCFFFFFHHHHHJJJJJJJJJJFFHIJJJJJJJJJJJJJJJJJJJJJJJIJHHHHHHFDEDF;AEEEEEEDDDDDBBACDDDCDDDDCCDDDDDDCCDC3\r\n",
      "@SRR1363257.96 GWZHISEQ01:153:C1W31ACXX:5:1101:6707:2460 length=101\r\n",
      "TCATTAAGCCGTGGTGGATGTGCCATAGCGCACCGCAAAGTTAAGAAACCGAATATTGGGTTTAGTCTTGTTTCATAATTGTTGCAATGAAACGCGGTGAA\r\n",
      "+\r\n",
      "CCCFFFFFHHHHHJHIIJIIIIJJJJJJGIJJJJJIJJIIGHJJJJJIIJJDHFFFFFEDACDDDCDDDDCCDDECACCDCCCDACDDDDCCDDDDDBD@A\r\n"
     ]
    }
   ],
   "source": [
    "!head -20 amp_res_1.fastq"
   ]
  },
  {
   "cell_type": "markdown",
   "metadata": {},
   "source": [
    "### Perform fastqc analysis"
   ]
  },
  {
   "cell_type": "code",
   "execution_count": 6,
   "metadata": {},
   "outputs": [
    {
     "name": "stdout",
     "output_type": "stream",
     "text": [
      "Started analysis of amp_res_1.fastq\n",
      "Approx 5% complete for amp_res_1.fastq\n",
      "Approx 10% complete for amp_res_1.fastq\n",
      "Approx 15% complete for amp_res_1.fastq\n",
      "Approx 20% complete for amp_res_1.fastq\n",
      "Approx 25% complete for amp_res_1.fastq\n",
      "Approx 30% complete for amp_res_1.fastq\n",
      "Approx 35% complete for amp_res_1.fastq\n",
      "Approx 40% complete for amp_res_1.fastq\n",
      "Approx 45% complete for amp_res_1.fastq\n",
      "Approx 50% complete for amp_res_1.fastq\n",
      "Approx 55% complete for amp_res_1.fastq\n",
      "Approx 60% complete for amp_res_1.fastq\n",
      "Approx 65% complete for amp_res_1.fastq\n",
      "Approx 70% complete for amp_res_1.fastq\n",
      "Approx 75% complete for amp_res_1.fastq\n",
      "Approx 80% complete for amp_res_1.fastq\n",
      "Approx 85% complete for amp_res_1.fastq\n",
      "Approx 90% complete for amp_res_1.fastq\n",
      "Approx 95% complete for amp_res_1.fastq\n",
      "Analysis complete for amp_res_1.fastq\n",
      "Started analysis of amp_res_2.fastq\n",
      "Approx 5% complete for amp_res_2.fastq\n",
      "Approx 10% complete for amp_res_2.fastq\n",
      "Approx 15% complete for amp_res_2.fastq\n",
      "Approx 20% complete for amp_res_2.fastq\n",
      "Approx 25% complete for amp_res_2.fastq\n",
      "Approx 30% complete for amp_res_2.fastq\n",
      "Approx 35% complete for amp_res_2.fastq\n",
      "Approx 40% complete for amp_res_2.fastq\n",
      "Approx 45% complete for amp_res_2.fastq\n",
      "Approx 50% complete for amp_res_2.fastq\n",
      "Approx 55% complete for amp_res_2.fastq\n",
      "Approx 60% complete for amp_res_2.fastq\n",
      "Approx 65% complete for amp_res_2.fastq\n",
      "Approx 70% complete for amp_res_2.fastq\n",
      "Approx 75% complete for amp_res_2.fastq\n",
      "Approx 80% complete for amp_res_2.fastq\n",
      "Approx 85% complete for amp_res_2.fastq\n",
      "Approx 90% complete for amp_res_2.fastq\n",
      "Approx 95% complete for amp_res_2.fastq\n",
      "Analysis complete for amp_res_2.fastq\n"
     ]
    }
   ],
   "source": [
    "!fastqc -o . amp_res_1.fastq amp_res_2.fastq"
   ]
  },
  {
   "cell_type": "markdown",
   "metadata": {},
   "source": [
    "<img src=\"images/untrimmed_quality1.png\">\n",
    "<img src=\"images/untrimmed_quality2.png\">"
   ]
  },
  {
   "cell_type": "markdown",
   "metadata": {},
   "source": [
    "### Count lines and divide by 4 to get number of reads"
   ]
  },
  {
   "cell_type": "code",
   "execution_count": 7,
   "metadata": {},
   "outputs": [
    {
     "name": "stdout",
     "output_type": "stream",
     "text": [
      " 1823504 amp_res_1.fastq\n",
      " 1823504 amp_res_2.fastq\n",
      " 3647008 total\n"
     ]
    }
   ],
   "source": [
    "!wc -l  amp_res_*.fastq"
   ]
  },
  {
   "cell_type": "markdown",
   "metadata": {},
   "source": [
    "### Use Trimmomatic to trim low-quality bases "
   ]
  },
  {
   "cell_type": "code",
   "execution_count": 8,
   "metadata": {},
   "outputs": [
    {
     "name": "stdout",
     "output_type": "stream",
     "text": [
      "TrimmomaticPE: Started with arguments:\n",
      " -phred33 amp_res_1.fastq amp_res_2.fastq -baseout amp_trim_20 LEADING:20 TRAILING:20 SLIDINGWINDOW:10:20 MINLEN:10\n",
      "Multiple cores found: Using 4 threads\n",
      "Using templated Output files: amp_trim_20_1P amp_trim_20_1U amp_trim_20_2P amp_trim_20_2U\n",
      "Input Read Pairs: 455876 Both Surviving: 451687 (99,08%) Forward Only Surviving: 4118 (0,90%) Reverse Only Surviving: 59 (0,01%) Dropped: 12 (0,00%)\n",
      "TrimmomaticPE: Completed successfully\n"
     ]
    }
   ],
   "source": [
    "!Trimmomatic PE -phred33 amp_res_1.fastq amp_res_2.fastq -baseout amp_trim_20 LEADING:20 TRAILING:20 SLIDINGWINDOW:10:20 MINLEN:20"
   ]
  },
  {
   "cell_type": "markdown",
   "metadata": {},
   "source": [
    "<img src=\"images/quality1.png\">\n",
    "<img src=\"images/quality2.png\">"
   ]
  },
  {
   "cell_type": "code",
   "execution_count": 9,
   "metadata": {},
   "outputs": [
    {
     "name": "stdout",
     "output_type": "stream",
     "text": [
      "TrimmomaticPE: Started with arguments:\n",
      " -phred33 amp_res_1.fastq amp_res_2.fastq -baseout amp_trim_30 LEADING:30 TRAILING:30 SLIDINGWINDOW:10:30 MINLEN:10\n",
      "Multiple cores found: Using 4 threads\n",
      "Using templated Output files: amp_trim_30_1P amp_trim_30_1U amp_trim_30_2P amp_trim_30_2U\n",
      "Input Read Pairs: 455876 Both Surviving: 396603 (87,00%) Forward Only Surviving: 26438 (5,80%) Reverse Only Surviving: 23868 (5,24%) Dropped: 8967 (1,97%)\n",
      "TrimmomaticPE: Completed successfully\n"
     ]
    }
   ],
   "source": [
    "!Trimmomatic PE -phred33 amp_res_1.fastq amp_res_2.fastq -baseout amp_trim_30 LEADING:30 TRAILING:30 SLIDINGWINDOW:10:30 MINLEN:10"
   ]
  },
  {
   "cell_type": "markdown",
   "metadata": {},
   "source": [
    "### Align to the reference"
   ]
  },
  {
   "cell_type": "code",
   "execution_count": 11,
   "metadata": {},
   "outputs": [
    {
     "name": "stdout",
     "output_type": "stream",
     "text": [
      "[bwa_index] Pack FASTA... 0.06 sec\n",
      "[bwa_index] Construct BWT for the packed sequence...\n",
      "[bwa_index] 1.23 seconds elapse.\n",
      "[bwa_index] Update BWT... 0.03 sec\n",
      "[bwa_index] Pack forward-only FASTA... 0.04 sec\n",
      "[bwa_index] Construct SA from BWT and Occ... 0.44 sec\n",
      "[main] Version: 0.7.17-r1188\n",
      "[main] CMD: bwa index GCF_000005845.2_ASM584v2_genomic.fna.gz\n",
      "[main] Real time: 1.830 sec; CPU: 1.796 sec\n"
     ]
    }
   ],
   "source": [
    "!bwa index GCF_000005845.2_ASM584v2_genomic.fna.gz "
   ]
  },
  {
   "cell_type": "code",
   "execution_count": 12,
   "metadata": {},
   "outputs": [
    {
     "name": "stdout",
     "output_type": "stream",
     "text": [
      "[M::bwa_idx_load_from_disk] read 0 ALT contigs\n",
      "[M::process] read 99010 sequences (10000010 bp)...\n",
      "[M::process] read 99010 sequences (10000010 bp)...\n",
      "[M::mem_pestat] # candidate unique pairs for (FF, FR, RF, RR): (6, 47869, 0, 15)\n",
      "[M::mem_pestat] skip orientation FF as there are not enough pairs\n",
      "[M::mem_pestat] analyzing insert size distribution for orientation FR...\n",
      "[M::mem_pestat] (25, 50, 75) percentile: (146, 185, 231)\n",
      "[M::mem_pestat] low and high boundaries for computing mean and std.dev: (1, 401)\n",
      "[M::mem_pestat] mean and std.dev: (190.00, 63.93)\n",
      "[M::mem_pestat] low and high boundaries for proper pairs: (1, 486)\n",
      "[M::mem_pestat] skip orientation RF as there are not enough pairs\n",
      "[M::mem_pestat] analyzing insert size distribution for orientation RR...\n",
      "[M::mem_pestat] (25, 50, 75) percentile: (120, 158, 1540)\n",
      "[M::mem_pestat] low and high boundaries for computing mean and std.dev: (1, 4380)\n",
      "[M::mem_pestat] mean and std.dev: (568.27, 721.54)\n",
      "[M::mem_pestat] low and high boundaries for proper pairs: (1, 5800)\n",
      "[M::mem_pestat] skip orientation RR\n",
      "[M::mem_process_seqs] Processed 99010 reads in 3.608 CPU sec, 3.569 real sec\n",
      "[M::process] read 99010 sequences (10000010 bp)...\n",
      "[M::mem_pestat] # candidate unique pairs for (FF, FR, RF, RR): (12, 47732, 0, 16)\n",
      "[M::mem_pestat] analyzing insert size distribution for orientation FF...\n",
      "[M::mem_pestat] (25, 50, 75) percentile: (94, 160, 366)\n",
      "[M::mem_pestat] low and high boundaries for computing mean and std.dev: (1, 910)\n",
      "[M::mem_pestat] mean and std.dev: (158.20, 114.31)\n",
      "[M::mem_pestat] low and high boundaries for proper pairs: (1, 1182)\n",
      "[M::mem_pestat] analyzing insert size distribution for orientation FR...\n",
      "[M::mem_pestat] (25, 50, 75) percentile: (143, 182, 228)\n",
      "[M::mem_pestat] low and high boundaries for computing mean and std.dev: (1, 398)\n",
      "[M::mem_pestat] mean and std.dev: (187.30, 62.99)\n",
      "[M::mem_pestat] low and high boundaries for proper pairs: (1, 483)\n",
      "[M::mem_pestat] skip orientation RF as there are not enough pairs\n",
      "[M::mem_pestat] analyzing insert size distribution for orientation RR...\n",
      "[M::mem_pestat] (25, 50, 75) percentile: (91, 176, 1784)\n",
      "[M::mem_pestat] low and high boundaries for computing mean and std.dev: (1, 5170)\n",
      "[M::mem_pestat] mean and std.dev: (569.50, 720.58)\n",
      "[M::mem_pestat] low and high boundaries for proper pairs: (1, 6863)\n",
      "[M::mem_pestat] skip orientation FF\n",
      "[M::mem_pestat] skip orientation RR\n",
      "[M::mem_process_seqs] Processed 99010 reads in 3.625 CPU sec, 3.465 real sec\n",
      "[M::process] read 99010 sequences (10000010 bp)...\n",
      "[M::mem_pestat] # candidate unique pairs for (FF, FR, RF, RR): (7, 47846, 0, 10)\n",
      "[M::mem_pestat] skip orientation FF as there are not enough pairs\n",
      "[M::mem_pestat] analyzing insert size distribution for orientation FR...\n",
      "[M::mem_pestat] (25, 50, 75) percentile: (143, 183, 228)\n",
      "[M::mem_pestat] low and high boundaries for computing mean and std.dev: (1, 398)\n",
      "[M::mem_pestat] mean and std.dev: (187.52, 63.27)\n",
      "[M::mem_pestat] low and high boundaries for proper pairs: (1, 483)\n",
      "[M::mem_pestat] skip orientation RF as there are not enough pairs\n",
      "[M::mem_pestat] analyzing insert size distribution for orientation RR...\n",
      "[M::mem_pestat] (25, 50, 75) percentile: (62, 104, 192)\n",
      "[M::mem_pestat] low and high boundaries for computing mean and std.dev: (1, 452)\n",
      "[M::mem_pestat] mean and std.dev: (118.89, 64.32)\n",
      "[M::mem_pestat] low and high boundaries for proper pairs: (1, 582)\n",
      "[M::mem_pestat] skip orientation RR\n",
      "[M::mem_process_seqs] Processed 99010 reads in 3.325 CPU sec, 3.127 real sec\n",
      "[M::process] read 99010 sequences (10000010 bp)...\n",
      "[M::mem_pestat] # candidate unique pairs for (FF, FR, RF, RR): (9, 47831, 0, 9)\n",
      "[M::mem_pestat] skip orientation FF as there are not enough pairs\n",
      "[M::mem_pestat] analyzing insert size distribution for orientation FR...\n",
      "[M::mem_pestat] (25, 50, 75) percentile: (143, 183, 229)\n",
      "[M::mem_pestat] low and high boundaries for computing mean and std.dev: (1, 401)\n",
      "[M::mem_pestat] mean and std.dev: (187.73, 63.63)\n",
      "[M::mem_pestat] low and high boundaries for proper pairs: (1, 487)\n",
      "[M::mem_pestat] skip orientation RF as there are not enough pairs\n",
      "[M::mem_pestat] skip orientation RR as there are not enough pairs\n",
      "[M::mem_process_seqs] Processed 99010 reads in 3.416 CPU sec, 3.218 real sec\n",
      "[M::process] read 99010 sequences (10000010 bp)...\n",
      "[M::mem_pestat] # candidate unique pairs for (FF, FR, RF, RR): (7, 47882, 0, 8)\n",
      "[M::mem_pestat] skip orientation FF as there are not enough pairs\n",
      "[M::mem_pestat] analyzing insert size distribution for orientation FR...\n",
      "[M::mem_pestat] (25, 50, 75) percentile: (143, 183, 228)\n",
      "[M::mem_pestat] low and high boundaries for computing mean and std.dev: (1, 398)\n",
      "[M::mem_pestat] mean and std.dev: (187.71, 63.16)\n",
      "[M::mem_pestat] low and high boundaries for proper pairs: (1, 483)\n",
      "[M::mem_pestat] skip orientation RF as there are not enough pairs\n",
      "[M::mem_pestat] skip orientation RR as there are not enough pairs\n",
      "[M::mem_process_seqs] Processed 99010 reads in 3.240 CPU sec, 3.045 real sec\n",
      "[M::process] read 99010 sequences (10000010 bp)...\n",
      "[M::mem_pestat] # candidate unique pairs for (FF, FR, RF, RR): (11, 47812, 0, 6)\n",
      "[M::mem_pestat] analyzing insert size distribution for orientation FF...\n",
      "[M::mem_pestat] (25, 50, 75) percentile: (77, 83, 174)\n",
      "[M::mem_pestat] low and high boundaries for computing mean and std.dev: (1, 368)\n",
      "[M::mem_pestat] mean and std.dev: (87.67, 34.52)\n",
      "[M::mem_pestat] low and high boundaries for proper pairs: (1, 465)\n",
      "[M::mem_pestat] analyzing insert size distribution for orientation FR...\n",
      "[M::mem_pestat] (25, 50, 75) percentile: (145, 185, 231)\n",
      "[M::mem_pestat] low and high boundaries for computing mean and std.dev: (1, 403)\n",
      "[M::mem_pestat] mean and std.dev: (189.71, 63.93)\n",
      "[M::mem_pestat] low and high boundaries for proper pairs: (1, 489)\n",
      "[M::mem_pestat] skip orientation RF as there are not enough pairs\n",
      "[M::mem_pestat] skip orientation RR as there are not enough pairs\n",
      "[M::mem_pestat] skip orientation FF\n",
      "[M::mem_process_seqs] Processed 99010 reads in 3.357 CPU sec, 3.154 real sec\n",
      "[M::process] read 99010 sequences (10000010 bp)...\n",
      "[M::mem_pestat] # candidate unique pairs for (FF, FR, RF, RR): (13, 47686, 0, 9)\n",
      "[M::mem_pestat] analyzing insert size distribution for orientation FF...\n",
      "[M::mem_pestat] (25, 50, 75) percentile: (80, 126, 172)\n",
      "[M::mem_pestat] low and high boundaries for computing mean and std.dev: (1, 356)\n",
      "[M::mem_pestat] mean and std.dev: (120.54, 55.48)\n",
      "[M::mem_pestat] low and high boundaries for proper pairs: (1, 448)\n",
      "[M::mem_pestat] analyzing insert size distribution for orientation FR...\n",
      "[M::mem_pestat] (25, 50, 75) percentile: (142, 182, 227)\n",
      "[M::mem_pestat] low and high boundaries for computing mean and std.dev: (1, 397)\n",
      "[M::mem_pestat] mean and std.dev: (186.31, 62.62)\n",
      "[M::mem_pestat] low and high boundaries for proper pairs: (1, 482)\n",
      "[M::mem_pestat] skip orientation RF as there are not enough pairs\n",
      "[M::mem_pestat] skip orientation RR as there are not enough pairs\n",
      "[M::mem_pestat] skip orientation FF\n",
      "[M::mem_process_seqs] Processed 99010 reads in 3.763 CPU sec, 3.563 real sec\n",
      "[M::process] read 99010 sequences (10000010 bp)...\n",
      "[M::mem_pestat] # candidate unique pairs for (FF, FR, RF, RR): (8, 47831, 0, 11)\n",
      "[M::mem_pestat] skip orientation FF as there are not enough pairs\n",
      "[M::mem_pestat] analyzing insert size distribution for orientation FR...\n",
      "[M::mem_pestat] (25, 50, 75) percentile: (145, 185, 231)\n",
      "[M::mem_pestat] low and high boundaries for computing mean and std.dev: (1, 403)\n",
      "[M::mem_pestat] mean and std.dev: (189.71, 63.93)\n",
      "[M::mem_pestat] low and high boundaries for proper pairs: (1, 489)\n",
      "[M::mem_pestat] skip orientation RF as there are not enough pairs\n",
      "[M::mem_pestat] analyzing insert size distribution for orientation RR...\n",
      "[M::mem_pestat] (25, 50, 75) percentile: (71, 152, 325)\n",
      "[M::mem_pestat] low and high boundaries for computing mean and std.dev: (1, 833)\n",
      "[M::mem_pestat] mean and std.dev: (135.33, 101.09)\n",
      "[M::mem_pestat] low and high boundaries for proper pairs: (1, 1087)\n",
      "[M::mem_pestat] skip orientation RR\n",
      "[M::mem_process_seqs] Processed 99010 reads in 3.741 CPU sec, 3.536 real sec\n",
      "[M::process] read 20662 sequences (2086862 bp)...\n",
      "[M::mem_pestat] # candidate unique pairs for (FF, FR, RF, RR): (11, 47872, 0, 6)\n",
      "[M::mem_pestat] analyzing insert size distribution for orientation FF...\n",
      "[M::mem_pestat] (25, 50, 75) percentile: (65, 72, 135)\n",
      "[M::mem_pestat] low and high boundaries for computing mean and std.dev: (1, 275)\n",
      "[M::mem_pestat] mean and std.dev: (83.10, 46.84)\n",
      "[M::mem_pestat] low and high boundaries for proper pairs: (1, 345)\n",
      "[M::mem_pestat] analyzing insert size distribution for orientation FR...\n",
      "[M::mem_pestat] (25, 50, 75) percentile: (143, 182, 229)\n",
      "[M::mem_pestat] low and high boundaries for computing mean and std.dev: (1, 401)\n",
      "[M::mem_pestat] mean and std.dev: (187.60, 63.49)\n",
      "[M::mem_pestat] low and high boundaries for proper pairs: (1, 487)\n",
      "[M::mem_pestat] skip orientation RF as there are not enough pairs\n",
      "[M::mem_pestat] skip orientation RR as there are not enough pairs\n",
      "[M::mem_pestat] skip orientation FF\n"
     ]
    },
    {
     "name": "stdout",
     "output_type": "stream",
     "text": [
      "[M::mem_process_seqs] Processed 99010 reads in 3.580 CPU sec, 3.444 real sec\n",
      "[M::mem_pestat] # candidate unique pairs for (FF, FR, RF, RR): (2, 9963, 0, 3)\n",
      "[M::mem_pestat] skip orientation FF as there are not enough pairs\n",
      "[M::mem_pestat] analyzing insert size distribution for orientation FR...\n",
      "[M::mem_pestat] (25, 50, 75) percentile: (142, 179, 223)\n",
      "[M::mem_pestat] low and high boundaries for computing mean and std.dev: (1, 385)\n",
      "[M::mem_pestat] mean and std.dev: (184.44, 61.03)\n",
      "[M::mem_pestat] low and high boundaries for proper pairs: (1, 466)\n",
      "[M::mem_pestat] skip orientation RF as there are not enough pairs\n",
      "[M::mem_pestat] skip orientation RR as there are not enough pairs\n",
      "[M::mem_process_seqs] Processed 20662 reads in 0.914 CPU sec, 0.782 real sec\n",
      "[main] Version: 0.7.17-r1188\n",
      "[main] CMD: bwa mem GCF_000005845.2_ASM584v2_genomic.fna.gz amp_res_1.fastq amp_res_2.fastq\n",
      "[main] Real time: 31.036 sec; CPU: 32.695 sec\n"
     ]
    }
   ],
   "source": [
    "!bwa mem GCF_000005845.2_ASM584v2_genomic.fna.gz amp_res_1.fastq amp_res_2.fastq > alignment.sam"
   ]
  },
  {
   "cell_type": "markdown",
   "metadata": {},
   "source": [
    "### Compress alignment"
   ]
  },
  {
   "cell_type": "code",
   "execution_count": 13,
   "metadata": {},
   "outputs": [],
   "source": [
    "!samtools view -S -b alignment.sam > alignment.bam"
   ]
  },
  {
   "cell_type": "markdown",
   "metadata": {},
   "source": [
    "### Explore the stats"
   ]
  },
  {
   "cell_type": "code",
   "execution_count": 14,
   "metadata": {},
   "outputs": [
    {
     "name": "stdout",
     "output_type": "stream",
     "text": [
      "912095 + 0 in total (QC-passed reads + QC-failed reads)\r\n",
      "0 + 0 secondary\r\n",
      "343 + 0 supplementary\r\n",
      "0 + 0 duplicates\r\n",
      "910940 + 0 mapped (99.87% : N/A)\r\n",
      "911752 + 0 paired in sequencing\r\n",
      "455876 + 0 read1\r\n",
      "455876 + 0 read2\r\n",
      "907476 + 0 properly paired (99.53% : N/A)\r\n",
      "909488 + 0 with itself and mate mapped\r\n",
      "1109 + 0 singletons (0.12% : N/A)\r\n",
      "0 + 0 with mate mapped to a different chr\r\n",
      "0 + 0 with mate mapped to a different chr (mapQ>=5)\r\n"
     ]
    }
   ],
   "source": [
    "!samtools flagstat alignment.bam"
   ]
  },
  {
   "cell_type": "markdown",
   "metadata": {},
   "source": [
    "### Sort and index the alignment"
   ]
  },
  {
   "cell_type": "code",
   "execution_count": 15,
   "metadata": {},
   "outputs": [],
   "source": [
    "!samtools sort alignment.bam -o alignment_sorted.bam"
   ]
  },
  {
   "cell_type": "code",
   "execution_count": 16,
   "metadata": {},
   "outputs": [],
   "source": [
    "!samtools index alignment_sorted.bam"
   ]
  },
  {
   "cell_type": "markdown",
   "metadata": {},
   "source": [
    "### Create a mileup file"
   ]
  },
  {
   "cell_type": "code",
   "execution_count": 19,
   "metadata": {},
   "outputs": [],
   "source": [
    "!gzip -d GCF_000005845.2_ASM584v2_genomic.fna.gz"
   ]
  },
  {
   "cell_type": "code",
   "execution_count": 20,
   "metadata": {},
   "outputs": [
    {
     "name": "stdout",
     "output_type": "stream",
     "text": [
      "[mpileup] 1 samples in 1 input files\r\n"
     ]
    }
   ],
   "source": [
    "!samtools mpileup -f GCF_000005845.2_ASM584v2_genomic.fna alignment_sorted.bam >  my.mpileup"
   ]
  },
  {
   "cell_type": "markdown",
   "metadata": {},
   "source": [
    "### Extract variant call data"
   ]
  },
  {
   "cell_type": "code",
   "execution_count": 22,
   "metadata": {},
   "outputs": [
    {
     "name": "stdout",
     "output_type": "stream",
     "text": [
      "Only SNPs will be reported\n",
      "Warning: No p-value threshold provided, so p-values will not be calculated\n",
      "Min coverage:\t8\n",
      "Min reads2:\t2\n",
      "Min var freq:\t0.3\n",
      "Min avg qual:\t15\n",
      "P-value thresh:\t0.01\n",
      "Reading input from my.mpileup\n",
      "4641524 bases in pileup file\n",
      "9 variant positions (6 SNP, 3 indel)\n",
      "1 were failed by the strand-filter\n",
      "5 variant positions reported (5 SNP, 0 indel)\n"
     ]
    }
   ],
   "source": [
    "!java -jar VarScan.v2.4.4.jar  mpileup2snp my.mpileup --min-var-freq 0.3 --variants --output-vcf 1 > VarScan_results.vcf"
   ]
  },
  {
   "cell_type": "markdown",
   "metadata": {},
   "source": [
    "## Now compare VarScan_results.vcf, GCF_000005845.2_ASM584v2_genomic.fna, alignment_sorted.bam and GCF_000005845.2_ASM584v2_genomic.gff.gz in IGV"
   ]
  },
  {
   "cell_type": "markdown",
   "metadata": {},
   "source": [
    "We see 5 SNP: "
   ]
  },
  {
   "cell_type": "markdown",
   "metadata": {},
   "source": [
    "<img src=\"images/snp_all.png\">"
   ]
  },
  {
   "cell_type": "markdown",
   "metadata": {},
   "source": [
    "## First"
   ]
  },
  {
   "cell_type": "markdown",
   "metadata": {},
   "source": [
    "<img src=\"images/snp1.png\">"
   ]
  },
  {
   "cell_type": "markdown",
   "metadata": {},
   "source": [
    "Gene b0084 (fstI)\n",
    "Change in amino acid Ala -> Gly"
   ]
  },
  {
   "cell_type": "markdown",
   "metadata": {},
   "source": [
    "## Second"
   ]
  },
  {
   "cell_type": "markdown",
   "metadata": {},
   "source": [
    "<img src=\"images/snp2.png\">"
   ]
  },
  {
   "cell_type": "markdown",
   "metadata": {},
   "source": [
    "Gene b0462 (acrB)\n",
    "Change in amino acid Gln -> Leu\n"
   ]
  },
  {
   "cell_type": "markdown",
   "metadata": {},
   "source": [
    "## Third"
   ]
  },
  {
   "cell_type": "markdown",
   "metadata": {},
   "source": [
    "<img src=\"images/snp3.png\">"
   ]
  },
  {
   "cell_type": "markdown",
   "metadata": {},
   "source": [
    "Non-coding region"
   ]
  },
  {
   "cell_type": "markdown",
   "metadata": {},
   "source": [
    "## Fourth"
   ]
  },
  {
   "cell_type": "markdown",
   "metadata": {},
   "source": [
    "<img src=\"images/snp4.png\">"
   ]
  },
  {
   "cell_type": "markdown",
   "metadata": {},
   "source": [
    "Gene b3404 (envZ)\n",
    "Change in amino acid Val -> Gly\n"
   ]
  },
  {
   "cell_type": "markdown",
   "metadata": {},
   "source": [
    "## Fifth"
   ]
  },
  {
   "cell_type": "markdown",
   "metadata": {},
   "source": [
    "<img src=\"images/snp5.png\">"
   ]
  },
  {
   "cell_type": "markdown",
   "metadata": {},
   "source": [
    "Synonymous mutation"
   ]
  }
 ],
 "metadata": {
  "kernelspec": {
   "display_name": "Python 3",
   "language": "python",
   "name": "python3"
  },
  "language_info": {
   "codemirror_mode": {
    "name": "ipython",
    "version": 3
   },
   "file_extension": ".py",
   "mimetype": "text/x-python",
   "name": "python",
   "nbconvert_exporter": "python",
   "pygments_lexer": "ipython3",
   "version": "3.7.4"
  }
 },
 "nbformat": 4,
 "nbformat_minor": 2
}
