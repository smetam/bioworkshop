{
 "cells": [
  {
   "cell_type": "markdown",
   "metadata": {},
   "source": [
    "# 1. Inspect the data from the rommate"
   ]
  },
  {
   "cell_type": "markdown",
   "metadata": {},
   "source": [
    "## Load roommate data"
   ]
  },
  {
   "cell_type": "code",
   "execution_count": 1,
   "metadata": {},
   "outputs": [
    {
     "name": "stdout",
     "output_type": "stream",
     "text": [
      "--2019-11-25 23:01:06--  ftp://ftp.sra.ebi.ac.uk/vol1/fastq/SRR170/001/SRR1705851/SRR1705851.fastq.gz\n",
      "           => «SRR1705851.fastq.gz»\n",
      "Распознаётся ftp.sra.ebi.ac.uk (ftp.sra.ebi.ac.uk)… 193.62.192.7\n",
      "Подключение к ftp.sra.ebi.ac.uk (ftp.sra.ebi.ac.uk)|193.62.192.7|:21... соединение установлено.\n",
      "Выполняется вход под именем anonymous … Выполнен вход в систему!\n",
      "==> SYST ... готово.  ==> PWD ... готово.\n",
      "==> TYPE I ... готово.   ==> CWD (1) /vol1/fastq/SRR170/001/SRR1705851 ... готово.\n",
      "==> SIZE SRR1705851.fastq.gz ... 19217176\n",
      "==> PASV ... готово.  ==> RETR SRR1705851.fastq.gz ... готово.\n",
      "Размер (байт): 19217176 (18M) (не достоверно)\n",
      "\n",
      "SRR1705851.fastq.gz 100%[===================>]  18,33M  3,75MB/s    за 7,0s    \n",
      "\n",
      "2019-11-25 23:01:15 (2,62 MB/s) - «SRR1705851.fastq.gz» сохранён [19217176]\n",
      "\n"
     ]
    }
   ],
   "source": [
    "!wget ftp://ftp.sra.ebi.ac.uk/vol1/fastq/SRR170/001/SRR1705851/SRR1705851.fastq.gz"
   ]
  },
  {
   "cell_type": "code",
   "execution_count": 3,
   "metadata": {},
   "outputs": [],
   "source": [
    "!gunzip SRR1705851.fastq.gz"
   ]
  },
  {
   "cell_type": "code",
   "execution_count": 65,
   "metadata": {},
   "outputs": [
    {
     "name": "stdout",
     "output_type": "stream",
     "text": [
      "@SRR1705851.1 1/1\r\n",
      "TTCGTGATTGTTTTCACTATCGTTCCGTTTGGCACTGCATGGTGCCCAAGGCACAGCGTTGCCGTGCTGTTGTCATTTCCAGGAAGTTTTTGAGCGAAAACCAGACATAGAATGTAGCTCAAAGCAATGATAGTCTTCATGGTTAATAG\r\n",
      "+\r\n",
      ",<==<<<<A@@@@@@@EEE;CEE+AC>EC;>EFFDC@=A@AE999DDD>>@E777EE75C>EF>EDEEFFFF--AE>EDEEEED=C-58AE=<D=<<DD=D9CDD@EEDED@DEDDE*9;@DDED@@@7@E*;*888@*8;@8@;;@@E\r\n",
      "@SRR1705851.2 2/1\r\n",
      "NATTAACCATGAAGACTATCATTGCTTTGAGCTACATTCTATGTCTGGTTTTCGCTCAAAAACTTCCTGGAAATGACAACAGCACGGCAACGCTGTGCCTTGGGCACCATGCAGTGCCAAACGGAACGATAGTGAAAACAATCACGAATGA\r\n",
      "+\r\n",
      "#5<???BBEEEDEDDDGGGGGGIIIIIIIIIIIIIIIIIIIIIHIIIIFHHIIHHHHHIIIIHIIIIIIIHIIIIIIIIIIIIIIHHHHHHHHHHEHHHHHFFHHHHHHFFHHGFGGGGGGGGGGGGGEEEGCEEGGGGGEEGGGGCGEGG\r\n",
      "@SRR1705851.3 3/1\r\n",
      "GTTTGGCACTGCATGGTGCCCAAGGCACAGCGTTGCCGTGCTGTTGTCATTTCCAGGAAGTTTTTGAGCGAAAACCAGACATAGAATGTAGCTCAAAGCAATGATAGTCTTCATGGTTAATAG\r\n"
     ]
    }
   ],
   "source": [
    "!head -10 SRR1705851.fastq"
   ]
  },
  {
   "cell_type": "markdown",
   "metadata": {},
   "source": [
    "#### Average read lenght"
   ]
  },
  {
   "cell_type": "code",
   "execution_count": 72,
   "metadata": {},
   "outputs": [
    {
     "name": "stdout",
     "output_type": "stream",
     "text": [
      "147,148\r\n"
     ]
    }
   ],
   "source": [
    "!awk '{if(NR%4==2) {count++; bases += length} } END{print bases/count}' SRR1705851.fastq"
   ]
  },
  {
   "cell_type": "markdown",
   "metadata": {},
   "source": [
    "#### Number of reads (has to be divided by 4)"
   ]
  },
  {
   "cell_type": "code",
   "execution_count": 73,
   "metadata": {},
   "outputs": [
    {
     "name": "stdout",
     "output_type": "stream",
     "text": [
      " 1433060 SRR1705851.fastq\r\n"
     ]
    }
   ],
   "source": [
    "!wc -l SRR1705851.fastq"
   ]
  },
  {
   "cell_type": "markdown",
   "metadata": {},
   "source": [
    "## Loading reference data"
   ]
  },
  {
   "cell_type": "code",
   "execution_count": 32,
   "metadata": {},
   "outputs": [],
   "source": [
    "!efetch -db nuccore -id KF848938.1 -format fasta> influenza_h_ref.fasta"
   ]
  },
  {
   "cell_type": "code",
   "execution_count": 46,
   "metadata": {},
   "outputs": [
    {
     "name": "stdout",
     "output_type": "stream",
     "text": [
      "[bwa_index] Pack FASTA... 0.00 sec\r\n",
      "[bwa_index] Construct BWT for the packed sequence...\r\n",
      "[bwa_index] 0.00 seconds elapse.\r\n",
      "[bwa_index] Update BWT... 0.00 sec\r\n",
      "[bwa_index] Pack forward-only FASTA... 0.00 sec\r\n",
      "[bwa_index] Construct SA from BWT and Occ... 0.00 sec\r\n",
      "[main] Version: 0.7.17-r1188\r\n",
      "[main] CMD: bwa index influenza_h_ref.fasta\r\n",
      "[main] Real time: 0.008 sec; CPU: 0.021 sec\r\n"
     ]
    }
   ],
   "source": [
    "!bwa index influenza_h_ref.fasta"
   ]
  },
  {
   "cell_type": "markdown",
   "metadata": {},
   "source": [
    "#### Calculating number of bases"
   ]
  },
  {
   "cell_type": "code",
   "execution_count": 78,
   "metadata": {},
   "outputs": [
    {
     "name": "stdout",
     "output_type": "stream",
     "text": [
      "1665\r\n"
     ]
    }
   ],
   "source": [
    "!awk '{if(NR>1) {bases += length} } END{print bases}' influenza_h_ref.fasta"
   ]
  },
  {
   "cell_type": "markdown",
   "metadata": {},
   "source": [
    "### Coverage = (#reads * mean read length) / #bases in reference"
   ]
  },
  {
   "cell_type": "code",
   "execution_count": 80,
   "metadata": {},
   "outputs": [
    {
     "data": {
      "text/plain": [
       "32276.0"
      ]
     },
     "execution_count": 80,
     "metadata": {},
     "output_type": "execute_result"
    }
   ],
   "source": [
    "round(1433060 * 150 / 4 / 1665, 0)"
   ]
  },
  {
   "cell_type": "markdown",
   "metadata": {},
   "source": [
    "# 2. Align your roommate’s data to the reference sequence"
   ]
  },
  {
   "cell_type": "code",
   "execution_count": 47,
   "metadata": {},
   "outputs": [
    {
     "name": "stdout",
     "output_type": "stream",
     "text": [
      "[M::bwa_idx_load_from_disk] read 0 ALT contigs\n",
      "[M::process] read 68388 sequences (10000129 bp)...\n",
      "[M::process] read 67628 sequences (10000233 bp)...\n",
      "[M::mem_process_seqs] Processed 68388 reads in 1.849 CPU sec, 1.788 real sec\n",
      "[M::process] read 67698 sequences (10000046 bp)...\n",
      "[M::mem_process_seqs] Processed 67628 reads in 1.501 CPU sec, 1.362 real sec\n",
      "[M::process] read 67652 sequences (10000169 bp)...\n",
      "[M::mem_process_seqs] Processed 67698 reads in 1.952 CPU sec, 1.819 real sec\n",
      "[M::process] read 68072 sequences (10000295 bp)...\n",
      "[M::mem_process_seqs] Processed 67652 reads in 1.904 CPU sec, 1.769 real sec\n",
      "[M::process] read 18827 sequences (2716992 bp)...\n",
      "[M::mem_process_seqs] Processed 68072 reads in 1.629 CPU sec, 1.538 real sec\n",
      "[M::mem_process_seqs] Processed 18827 reads in 0.812 CPU sec, 0.753 real sec\n",
      "[main] Version: 0.7.17-r1188\n",
      "[main] CMD: bwa mem influenza_h_ref.fasta SRR1705851.fastq\n",
      "[main] Real time: 9.649 sec; CPU: 9.782 sec\n"
     ]
    }
   ],
   "source": [
    "!bwa mem influenza_h_ref.fasta SRR1705851.fastq | samtools view -S -b - | samtools sort - -o roommate_sorted.bam"
   ]
  },
  {
   "cell_type": "code",
   "execution_count": 48,
   "metadata": {},
   "outputs": [],
   "source": [
    "!samtools index roommate_sorted.bam"
   ]
  },
  {
   "cell_type": "code",
   "execution_count": 52,
   "metadata": {},
   "outputs": [
    {
     "name": "stdout",
     "output_type": "stream",
     "text": [
      "361349 + 0 in total (QC-passed reads + QC-failed reads)\r\n",
      "0 + 0 secondary\r\n",
      "3084 + 0 supplementary\r\n",
      "0 + 0 duplicates\r\n",
      "361116 + 0 mapped (99.94% : N/A)\r\n",
      "0 + 0 paired in sequencing\r\n",
      "0 + 0 read1\r\n",
      "0 + 0 read2\r\n",
      "0 + 0 properly paired (N/A : N/A)\r\n",
      "0 + 0 with itself and mate mapped\r\n",
      "0 + 0 singletons (N/A : N/A)\r\n",
      "0 + 0 with mate mapped to a different chr\r\n",
      "0 + 0 with mate mapped to a different chr (mapQ>=5)\r\n"
     ]
    }
   ],
   "source": [
    "!samtools flagstat roommate_sorted.bam"
   ]
  },
  {
   "cell_type": "markdown",
   "metadata": {},
   "source": [
    "# 3. Look for common variants with VarScan"
   ]
  },
  {
   "cell_type": "markdown",
   "metadata": {},
   "source": [
    "## Prepare variants, -d 35000, since coverage is ~ 32000"
   ]
  },
  {
   "cell_type": "code",
   "execution_count": 81,
   "metadata": {},
   "outputs": [
    {
     "name": "stdout",
     "output_type": "stream",
     "text": [
      "[mpileup] 1 samples in 1 input files\r\n"
     ]
    }
   ],
   "source": [
    "!samtools mpileup -d 35000 -f influenza_h_ref.fasta roommate_sorted.bam >  my.mpileup"
   ]
  },
  {
   "cell_type": "markdown",
   "metadata": {},
   "source": [
    "## VarScan results with min frequency 0.95"
   ]
  },
  {
   "cell_type": "code",
   "execution_count": 67,
   "metadata": {},
   "outputs": [
    {
     "name": "stdout",
     "output_type": "stream",
     "text": [
      "Only SNPs will be reported\n",
      "Warning: No p-value threshold provided, so p-values will not be calculated\n",
      "Min coverage:\t8\n",
      "Min reads2:\t2\n",
      "Min var freq:\t0.95\n",
      "Min avg qual:\t15\n",
      "P-value thresh:\t0.01\n",
      "Reading input from my.mpileup\n",
      "1665 bases in pileup file\n",
      "5 variant positions (5 SNP, 0 indel)\n",
      "0 were failed by the strand-filter\n",
      "5 variant positions reported (5 SNP, 0 indel)\n"
     ]
    }
   ],
   "source": [
    "!java -jar VarScan.v2.4.4.jar  mpileup2snp my.mpileup --min-var-freq 0.95 --variants --output-vcf 1 > roommate_varscan_95_results.vcf"
   ]
  },
  {
   "cell_type": "code",
   "execution_count": 68,
   "metadata": {},
   "outputs": [
    {
     "name": "stdout",
     "output_type": "stream",
     "text": [
      "KF848938.1 72 A G\r\n",
      "KF848938.1 117 C T\r\n",
      "KF848938.1 774 T C\r\n",
      "KF848938.1 999 C T\r\n",
      "KF848938.1 1260 A C\r\n"
     ]
    }
   ],
   "source": [
    "!cat roommate_varscan_95_results.vcf | awk 'NR>24 {print $1, $2, $4, $5}'"
   ]
  },
  {
   "cell_type": "markdown",
   "metadata": {},
   "source": [
    "### Analysing varscan results in igv"
   ]
  },
  {
   "cell_type": "markdown",
   "metadata": {},
   "source": [
    "There 5 snps:\n",
    "1) ACA -> ACG, no amino acid change\n",
    "2) GCC -> GCU, no amino acid change\n",
    "3) UUU -> UUC, no amino acid change\n",
    "4) GGC -> GGU, no amino acid change\n",
    "5) CUA -> CUC, no amino acid change"
   ]
  },
  {
   "cell_type": "markdown",
   "metadata": {},
   "source": [
    "# 4. Look for rare variants with VarScan"
   ]
  },
  {
   "cell_type": "markdown",
   "metadata": {},
   "source": [
    "## VarScan results with min frequency 0.001"
   ]
  },
  {
   "cell_type": "code",
   "execution_count": 1,
   "metadata": {},
   "outputs": [
    {
     "name": "stdout",
     "output_type": "stream",
     "text": [
      "Only SNPs will be reported\n",
      "Warning: No p-value threshold provided, so p-values will not be calculated\n",
      "Min coverage:\t8\n",
      "Min reads2:\t2\n",
      "Min var freq:\t0.001\n",
      "Min avg qual:\t15\n",
      "P-value thresh:\t0.01\n",
      "Reading input from my.mpileup\n",
      "1665 bases in pileup file\n",
      "20 variant positions (18 SNP, 2 indel)\n",
      "0 were failed by the strand-filter\n",
      "18 variant positions reported (18 SNP, 0 indel)\n"
     ]
    }
   ],
   "source": [
    "!java -jar VarScan.v2.4.4.jar  mpileup2snp my.mpileup --min-var-freq 0.001 --variants --output-vcf 1 > roommate_varscan_001_results.vcf"
   ]
  },
  {
   "cell_type": "code",
   "execution_count": 8,
   "metadata": {},
   "outputs": [
    {
     "name": "stdout",
     "output_type": "stream",
     "text": [
      "KF848938.1 72 A G 99,96%\r\n",
      "KF848938.1 117 C T 99,82%\r\n",
      "KF848938.1 254 A G 0,17%\r\n",
      "KF848938.1 307 C T 0,95%\r\n",
      "KF848938.1 340 T C 0,17%\r\n",
      "KF848938.1 389 T C 0,22%\r\n",
      "KF848938.1 722 A G 0,22%\r\n",
      "KF848938.1 744 A G 0,18%\r\n",
      "KF848938.1 774 T C 99,96%\r\n",
      "KF848938.1 802 A G 0,24%\r\n",
      "KF848938.1 915 T C 0,2%\r\n",
      "KF848938.1 999 C T 99,86%\r\n",
      "KF848938.1 1043 A G 0,19%\r\n",
      "KF848938.1 1086 A G 0,21%\r\n",
      "KF848938.1 1213 A G 0,22%\r\n",
      "KF848938.1 1260 A C 99,94%\r\n",
      "KF848938.1 1280 T C 0,18%\r\n",
      "KF848938.1 1458 T C 0,84%\r\n"
     ]
    }
   ],
   "source": [
    "!cat roommate_varscan_001_results.vcf | awk 'NR>24 { split($10,x,\":\"); print $1, $2, $4, $5, x[7]}'"
   ]
  },
  {
   "cell_type": "markdown",
   "metadata": {},
   "source": [
    "# 5. Inspect and align the control sample sequencing data"
   ]
  },
  {
   "cell_type": "markdown",
   "metadata": {},
   "source": [
    "SRR1705858, SRR1705859, SRR1705860"
   ]
  },
  {
   "cell_type": "code",
   "execution_count": 12,
   "metadata": {},
   "outputs": [
    {
     "name": "stdout",
     "output_type": "stream",
     "text": [
      "--2019-11-26 22:53:20--  ftp://ftp.sra.ebi.ac.uk/vol1/fastq/SRR170/008/SRR1705858/SRR1705858.fastq.gz\n",
      "           => «SRR1705858.fastq.gz»\n",
      "Распознаётся ftp.sra.ebi.ac.uk (ftp.sra.ebi.ac.uk)… 193.62.192.7\n",
      "Подключение к ftp.sra.ebi.ac.uk (ftp.sra.ebi.ac.uk)|193.62.192.7|:21... соединение установлено.\n",
      "Выполняется вход под именем anonymous … Выполнен вход в систему!\n",
      "==> SYST ... готово.  ==> PWD ... готово.\n",
      "==> TYPE I ... готово.   ==> CWD (1) /vol1/fastq/SRR170/008/SRR1705858 ... готово.\n",
      "==> SIZE SRR1705858.fastq.gz ... 14782243\n",
      "==> PASV ... готово.  ==> RETR SRR1705858.fastq.gz ... готово.\n",
      "Размер (байт): 14782243 (14M) (не достоверно)\n",
      "\n",
      "SRR1705858.fastq.gz 100%[===================>]  14,10M  2,37MB/s    за 8,2s    \n",
      "\n",
      "2019-11-26 22:53:30 (1,71 MB/s) - «SRR1705858.fastq.gz» сохранён [14782243]\n",
      "\n",
      "--2019-11-26 22:53:30--  ftp://ftp.sra.ebi.ac.uk/vol1/fastq/SRR170/009/SRR1705859/SRR1705859.fastq.gz\n",
      "           => «SRR1705859.fastq.gz»\n",
      "Подключение к ftp.sra.ebi.ac.uk (ftp.sra.ebi.ac.uk)|193.62.192.7|:21... соединение установлено.\n",
      "Выполняется вход под именем anonymous … Выполнен вход в систему!\n",
      "==> SYST ... готово.  ==> PWD ... готово.\n",
      "==> TYPE I ... готово.   ==> CWD (1) /vol1/fastq/SRR170/009/SRR1705859 ... готово.\n",
      "==> SIZE SRR1705859.fastq.gz ... 13581641\n",
      "==> PASV ... готово.  ==> RETR SRR1705859.fastq.gz ... готово.\n",
      "Размер (байт): 13581641 (13M) (не достоверно)\n",
      "\n",
      "SRR1705859.fastq.gz 100%[===================>]  12,95M  3,97MB/s    за 4,7s    \n",
      "\n",
      "2019-11-26 22:53:37 (2,75 MB/s) - «SRR1705859.fastq.gz» сохранён [13581641]\n",
      "\n",
      "--2019-11-26 22:53:37--  ftp://ftp.sra.ebi.ac.uk/vol1/fastq/SRR170/000/SRR1705860/SRR1705860.fastq.gz\n",
      "           => «SRR1705860.fastq.gz»\n",
      "Подключение к ftp.sra.ebi.ac.uk (ftp.sra.ebi.ac.uk)|193.62.192.7|:21... соединение установлено.\n",
      "Выполняется вход под именем anonymous … Выполнен вход в систему!\n",
      "==> SYST ... готово.  ==> PWD ... готово.\n",
      "==> TYPE I ... готово.   ==> CWD (1) /vol1/fastq/SRR170/000/SRR1705860 ... готово.\n",
      "==> SIZE SRR1705860.fastq.gz ... 14372113\n",
      "==> PASV ... готово.  ==> RETR SRR1705860.fastq.gz ... готово.\n",
      "Размер (байт): 14372113 (14M) (не достоверно)\n",
      "\n",
      "SRR1705860.fastq.gz 100%[===================>]  13,71M   715KB/s    за 37s     \n",
      "\n",
      "2019-11-26 22:54:16 (375 KB/s) - «SRR1705860.fastq.gz» сохранён [14372113]\n",
      "\n",
      "ЗАВЕРШЕНО --2019-11-26 22:54:16--\n",
      "Общее время: 56s\n",
      "Загружено: 3 файлов, 41M за 50s (829 KB/s)\n"
     ]
    }
   ],
   "source": [
    "!wget ftp://ftp.sra.ebi.ac.uk/vol1/fastq/SRR170/008/SRR1705858/SRR1705858.fastq.gz ftp://ftp.sra.ebi.ac.uk/vol1/fastq/SRR170/009/SRR1705859/SRR1705859.fastq.gz  ftp://ftp.sra.ebi.ac.uk/vol1/fastq/SRR170/000/SRR1705860/SRR1705860.fastq.gz "
   ]
  },
  {
   "cell_type": "code",
   "execution_count": 13,
   "metadata": {},
   "outputs": [],
   "source": [
    "!gunzip SRR1705858.fastq.gz SRR1705859.fastq.gz SRR1705860.fastq.gz"
   ]
  },
  {
   "cell_type": "code",
   "execution_count": 15,
   "metadata": {},
   "outputs": [
    {
     "name": "stdout",
     "output_type": "stream",
     "text": [
      " 1026344 SRR1705858.fastq\n",
      "  933308 SRR1705859.fastq\n",
      "  999856 SRR1705860.fastq\n",
      " 2959508 total\n"
     ]
    }
   ],
   "source": [
    "!wc -l SRR1705858.fastq SRR1705859.fastq SRR1705860.fastq"
   ]
  },
  {
   "cell_type": "markdown",
   "metadata": {},
   "source": [
    "### New files coverage"
   ]
  },
  {
   "cell_type": "code",
   "execution_count": 20,
   "metadata": {},
   "outputs": [
    {
     "data": {
      "text/plain": [
       "22523.0"
      ]
     },
     "execution_count": 20,
     "metadata": {},
     "output_type": "execute_result"
    }
   ],
   "source": [
    "round(10 ** 6 / 4 * 150 / 1665, 0)"
   ]
  },
  {
   "cell_type": "markdown",
   "metadata": {},
   "source": [
    "## Align control files"
   ]
  },
  {
   "cell_type": "markdown",
   "metadata": {},
   "source": [
    "#### First"
   ]
  },
  {
   "cell_type": "code",
   "execution_count": 21,
   "metadata": {},
   "outputs": [
    {
     "name": "stdout",
     "output_type": "stream",
     "text": [
      "[M::bwa_idx_load_from_disk] read 0 ALT contigs\n",
      "[M::process] read 67448 sequences (10000210 bp)...\n",
      "[M::process] read 67230 sequences (10000094 bp)...\n",
      "[M::mem_process_seqs] Processed 67448 reads in 1.360 CPU sec, 1.296 real sec\n",
      "[M::process] read 67100 sequences (10000113 bp)...\n",
      "[M::mem_process_seqs] Processed 67230 reads in 1.606 CPU sec, 1.497 real sec\n",
      "[M::process] read 54808 sequences (8118313 bp)...\n",
      "[M::mem_process_seqs] Processed 67100 reads in 1.601 CPU sec, 1.523 real sec\n",
      "[M::mem_process_seqs] Processed 54808 reads in 1.324 CPU sec, 1.257 real sec\n",
      "[main] Version: 0.7.17-r1188\n",
      "[main] CMD: bwa mem influenza_h_ref.fasta SRR1705858.fastq\n",
      "[main] Real time: 6.484 sec; CPU: 6.048 sec\n"
     ]
    }
   ],
   "source": [
    "!bwa mem influenza_h_ref.fasta SRR1705858.fastq | samtools view -S -b - | samtools sort - -o control_1_sorted.bam"
   ]
  },
  {
   "cell_type": "code",
   "execution_count": 44,
   "metadata": {},
   "outputs": [
    {
     "name": "stdout",
     "output_type": "stream",
     "text": [
      "[M::bwa_idx_load_from_disk] read 0 ALT contigs\n",
      "[M::process] read 67476 sequences (10000274 bp)...\n",
      "[M::process] read 67236 sequences (10000039 bp)...\n",
      "[M::mem_process_seqs] Processed 67476 reads in 1.339 CPU sec, 1.284 real sec\n",
      "[M::process] read 67216 sequences (10000283 bp)...\n",
      "[M::mem_process_seqs] Processed 67236 reads in 1.552 CPU sec, 1.435 real sec\n",
      "[M::process] read 31399 sequences (4635971 bp)...\n",
      "[M::mem_process_seqs] Processed 67216 reads in 1.492 CPU sec, 1.415 real sec\n",
      "[M::mem_process_seqs] Processed 31399 reads in 0.876 CPU sec, 0.831 real sec\n",
      "[main] Version: 0.7.17-r1188\n",
      "[main] CMD: bwa mem influenza_h_ref.fasta SRR1705859.fastq\n",
      "[main] Real time: 5.575 sec; CPU: 5.379 sec\n"
     ]
    }
   ],
   "source": [
    "!bwa mem influenza_h_ref.fasta SRR1705859.fastq | samtools view -S -b - | samtools sort - -o control_2_sorted.bam"
   ]
  },
  {
   "cell_type": "code",
   "execution_count": 29,
   "metadata": {},
   "outputs": [
    {
     "name": "stdout",
     "output_type": "stream",
     "text": [
      "[M::bwa_idx_load_from_disk] read 0 ALT contigs\n",
      "[M::process] read 67356 sequences (10000126 bp)...\n",
      "[M::process] read 67208 sequences (10000122 bp)...\n",
      "[M::mem_process_seqs] Processed 67356 reads in 1.352 CPU sec, 1.308 real sec\n",
      "[M::process] read 67010 sequences (10000072 bp)...\n",
      "[M::mem_process_seqs] Processed 67208 reads in 1.635 CPU sec, 1.576 real sec\n",
      "[M::process] read 48390 sequences (7170166 bp)...\n",
      "[M::mem_process_seqs] Processed 67010 reads in 1.632 CPU sec, 1.633 real sec\n",
      "[M::mem_process_seqs] Processed 48390 reads in 1.254 CPU sec, 1.219 real sec\n",
      "[main] Version: 0.7.17-r1188\n",
      "[main] CMD: bwa mem influenza_h_ref.fasta SRR1705860.fastq\n",
      "[main] Real time: 6.505 sec; CPU: 6.017 sec\n"
     ]
    }
   ],
   "source": [
    "!bwa mem influenza_h_ref.fasta SRR1705860.fastq | samtools view -S -b - | samtools sort - -o control_3_sorted.bam"
   ]
  },
  {
   "cell_type": "code",
   "execution_count": 41,
   "metadata": {},
   "outputs": [],
   "source": [
    "!samtools index control_1_sorted.bam control_2_sorted.bam control_3_sorted.bam"
   ]
  },
  {
   "cell_type": "code",
   "execution_count": 46,
   "metadata": {},
   "outputs": [
    {
     "name": "stdout",
     "output_type": "stream",
     "text": [
      "233451 + 0 in total (QC-passed reads + QC-failed reads)\r\n",
      "0 + 0 secondary\r\n",
      "124 + 0 supplementary\r\n",
      "0 + 0 duplicates\r\n",
      "233375 + 0 mapped (99.97% : N/A)\r\n",
      "0 + 0 paired in sequencing\r\n",
      "0 + 0 read1\r\n",
      "0 + 0 read2\r\n",
      "0 + 0 properly paired (N/A : N/A)\r\n",
      "0 + 0 with itself and mate mapped\r\n",
      "0 + 0 singletons (N/A : N/A)\r\n",
      "0 + 0 with mate mapped to a different chr\r\n",
      "0 + 0 with mate mapped to a different chr (mapQ>=5)\r\n"
     ]
    }
   ],
   "source": [
    "!samtools flagstat control_2_sorted.bam"
   ]
  },
  {
   "cell_type": "markdown",
   "metadata": {},
   "source": [
    "### Preparing mplilup files"
   ]
  },
  {
   "cell_type": "code",
   "execution_count": 37,
   "metadata": {},
   "outputs": [
    {
     "name": "stdout",
     "output_type": "stream",
     "text": [
      "[mpileup] 1 samples in 1 input files\r\n"
     ]
    }
   ],
   "source": [
    "!samtools mpileup -d 25000 -f influenza_h_ref.fasta control_1_sorted.bam > control_1.mpileup"
   ]
  },
  {
   "cell_type": "code",
   "execution_count": 47,
   "metadata": {},
   "outputs": [
    {
     "name": "stdout",
     "output_type": "stream",
     "text": [
      "[mpileup] 1 samples in 1 input files\r\n"
     ]
    }
   ],
   "source": [
    "!samtools mpileup -d 25000 -f influenza_h_ref.fasta control_2_sorted.bam > control_2.mpileup"
   ]
  },
  {
   "cell_type": "code",
   "execution_count": 39,
   "metadata": {},
   "outputs": [
    {
     "name": "stdout",
     "output_type": "stream",
     "text": [
      "[mpileup] 1 samples in 1 input files\r\n"
     ]
    }
   ],
   "source": [
    "!samtools mpileup -d 25000 -f influenza_h_ref.fasta control_3_sorted.bam > control_3.mpileup"
   ]
  },
  {
   "cell_type": "markdown",
   "metadata": {},
   "source": [
    "## Preparing vcf files"
   ]
  },
  {
   "cell_type": "code",
   "execution_count": 48,
   "metadata": {},
   "outputs": [
    {
     "name": "stdout",
     "output_type": "stream",
     "text": [
      "Only SNPs will be reported\n",
      "Warning: No p-value threshold provided, so p-values will not be calculated\n",
      "Min coverage:\t8\n",
      "Min reads2:\t2\n",
      "Min var freq:\t0.001\n",
      "Min avg qual:\t15\n",
      "P-value thresh:\t0.01\n",
      "Reading input from control_1.mpileup\n",
      "1665 bases in pileup file\n",
      "56 variant positions (56 SNP, 0 indel)\n",
      "1 were failed by the strand-filter\n",
      "55 variant positions reported (55 SNP, 0 indel)\n"
     ]
    }
   ],
   "source": [
    "!java -jar VarScan.v2.4.4.jar  mpileup2snp control_1.mpileup --min-var-freq 0.001 --variants --output-vcf 1 > control_1_varscan.vcf"
   ]
  },
  {
   "cell_type": "code",
   "execution_count": 49,
   "metadata": {},
   "outputs": [
    {
     "name": "stdout",
     "output_type": "stream",
     "text": [
      "Only SNPs will be reported\n",
      "Warning: No p-value threshold provided, so p-values will not be calculated\n",
      "Min coverage:\t8\n",
      "Min reads2:\t2\n",
      "Min var freq:\t0.001\n",
      "Min avg qual:\t15\n",
      "P-value thresh:\t0.01\n",
      "Reading input from control_2.mpileup\n",
      "1665 bases in pileup file\n",
      "54 variant positions (54 SNP, 0 indel)\n",
      "2 were failed by the strand-filter\n",
      "52 variant positions reported (52 SNP, 0 indel)\n"
     ]
    }
   ],
   "source": [
    "!java -jar VarScan.v2.4.4.jar  mpileup2snp control_2.mpileup --min-var-freq 0.001 --variants --output-vcf 1 > control_2_varscan.vcf"
   ]
  },
  {
   "cell_type": "code",
   "execution_count": 50,
   "metadata": {},
   "outputs": [
    {
     "name": "stdout",
     "output_type": "stream",
     "text": [
      "Only SNPs will be reported\n",
      "Warning: No p-value threshold provided, so p-values will not be calculated\n",
      "Min coverage:\t8\n",
      "Min reads2:\t2\n",
      "Min var freq:\t0.001\n",
      "Min avg qual:\t15\n",
      "P-value thresh:\t0.01\n",
      "Reading input from control_3.mpileup\n",
      "1665 bases in pileup file\n",
      "61 variant positions (61 SNP, 0 indel)\n",
      "0 were failed by the strand-filter\n",
      "61 variant positions reported (61 SNP, 0 indel)\n"
     ]
    }
   ],
   "source": [
    "!java -jar VarScan.v2.4.4.jar  mpileup2snp control_3.mpileup --min-var-freq 0.001 --variants --output-vcf 1 > control_3_varscan.vcf"
   ]
  },
  {
   "cell_type": "markdown",
   "metadata": {},
   "source": [
    "## Preparing tables from vcf"
   ]
  },
  {
   "cell_type": "code",
   "execution_count": 60,
   "metadata": {},
   "outputs": [],
   "source": [
    "!cat control_1_varscan.vcf | awk 'NR>24 { split($10,x,\":\"); print $1, $2, $4, $5, x[7]}' > control_1_results.csv"
   ]
  },
  {
   "cell_type": "code",
   "execution_count": 61,
   "metadata": {},
   "outputs": [],
   "source": [
    "!cat control_2_varscan.vcf | awk 'NR>24 { split($10,x,\":\"); print $1, $2, $4, $5, x[7]}' > control_2_results.csv"
   ]
  },
  {
   "cell_type": "code",
   "execution_count": 62,
   "metadata": {},
   "outputs": [],
   "source": [
    "!cat control_3_varscan.vcf | awk 'NR>24 { split($10,x,\":\"); print $1, $2, $4, $5, x[7]}' > control_3_results.csv"
   ]
  },
  {
   "cell_type": "code",
   "execution_count": 63,
   "metadata": {},
   "outputs": [],
   "source": [
    "!cat roommate_varscan_001_results.vcf | awk 'NR>24 { split($10,x,\":\"); print $1, $2, $4, $5, x[7]}' > roomate_results.csv"
   ]
  },
  {
   "cell_type": "markdown",
   "metadata": {},
   "source": [
    "## Analyse vcf results"
   ]
  },
  {
   "cell_type": "markdown",
   "metadata": {},
   "source": [
    "availible at https://docs.google.com/spreadsheets/d/1hUd-mcM3aaoY02K1wQKTicjBTVq-7eQ7DHTz4SnSguc/edit?usp=sharing"
   ]
  },
  {
   "cell_type": "markdown",
   "metadata": {},
   "source": [
    "### Statistical analysis has shown that mutations at positions 307 and 1458 are significant"
   ]
  },
  {
   "cell_type": "markdown",
   "metadata": {},
   "source": [
    "307: CCG -> UCG (P)\n",
    "\n",
    "1458: UAU -> UAC (Y) no amino acid change"
   ]
  },
  {
   "cell_type": "markdown",
   "metadata": {},
   "source": [
    "According to epitope locations listed in Munoz et al, residue 307 is part of epitope C.\n",
    "It is one of three regions (A-C) that are important for recognition by antibodies."
   ]
  }
 ],
 "metadata": {
  "kernelspec": {
   "display_name": "Python 3",
   "language": "python",
   "name": "python3"
  },
  "language_info": {
   "codemirror_mode": {
    "name": "ipython",
    "version": 3
   },
   "file_extension": ".py",
   "mimetype": "text/x-python",
   "name": "python",
   "nbconvert_exporter": "python",
   "pygments_lexer": "ipython3",
   "version": "3.7.4"
  }
 },
 "nbformat": 4,
 "nbformat_minor": 2
}
