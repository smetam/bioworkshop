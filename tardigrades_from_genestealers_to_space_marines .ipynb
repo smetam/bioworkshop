{
 "cells": [
  {
   "cell_type": "markdown",
   "metadata": {},
   "source": [
    "## Project 4. Tardigrades: from genestealers to space marines "
   ]
  },
  {
   "cell_type": "markdown",
   "metadata": {},
   "source": [
    "## Functional annotation.\n"
   ]
  },
  {
   "cell_type": "markdown",
   "metadata": {},
   "source": [
    "#### Find protein sequences from .gff and reference genome"
   ]
  },
  {
   "cell_type": "code",
   "execution_count": 19,
   "metadata": {},
   "outputs": [
    {
     "name": "stdout",
     "output_type": "stream",
     "text": [
      "Read in 200 sequence(s) from tardi_reference_genomic.fasta.\r\n"
     ]
    }
   ],
   "source": [
    "!perl augustus_out1.pl augustus.whole.gff --seqfile=tardi_reference_genomic.fasta"
   ]
  },
  {
   "cell_type": "markdown",
   "metadata": {},
   "source": [
    "#### Count number of genes"
   ]
  },
  {
   "cell_type": "code",
   "execution_count": 20,
   "metadata": {},
   "outputs": [
    {
     "name": "stdout",
     "output_type": "stream",
     "text": [
      "   16435\r\n"
     ]
    }
   ],
   "source": [
    "!cat augustus.whole.fa | grep '>' | wc -l"
   ]
  },
  {
   "cell_type": "markdown",
   "metadata": {},
   "source": [
    "## 5 Local"
   ]
  },
  {
   "cell_type": "code",
   "execution_count": 22,
   "metadata": {},
   "outputs": [
    {
     "name": "stdout",
     "output_type": "stream",
     "text": [
      "\n",
      "\n",
      "Building a new DB, current time: 02/27/2020 15:07:36\n",
      "New DB name:   /Users/b2w/Bioinf/Workshop/bioworkshop/augustus.whole.fa\n",
      "New DB title:  Tardigrades proteins\n",
      "Sequence type: Protein\n",
      "Keep MBits: T\n",
      "Maximum file size: 1000000000B\n",
      "Adding sequences from FASTA; added 16435 sequences in 0.454478 seconds.\n"
     ]
    }
   ],
   "source": [
    "!makeblastdb -in augustus.whole.fa -parse_seqids -title \"Tardigrades proteins\" -dbtype prot"
   ]
  },
  {
   "cell_type": "code",
   "execution_count": 24,
   "metadata": {},
   "outputs": [
    {
     "name": "stdout",
     "output_type": "stream",
     "text": [
      ">pept_3_score_54\r\n",
      "AATGAVLSSADSR\r\n"
     ]
    }
   ],
   "source": [
    "!samtools faidx peptides.fsa pept_3_score_54"
   ]
  },
  {
   "cell_type": "code",
   "execution_count": 31,
   "metadata": {},
   "outputs": [],
   "source": [
    "!blastp -db augustus.whole.fa -query peptides.fsa -out results.out"
   ]
  },
  {
   "cell_type": "code",
   "execution_count": 21,
   "metadata": {},
   "outputs": [],
   "source": [
    "!cat results.out | grep '>' | cut -d' ' -f1 | cut -c 2- | xargs samtools faidx augustus.whole.fa > matching_proteins.fa"
   ]
  },
  {
   "cell_type": "markdown",
   "metadata": {},
   "source": [
    "## 6a. WoLF PSORT\n",
    "matching proteins were analysed with WoLF PSORT, here are the results:  \n",
    "  "
   ]
  },
  {
   "cell_type": "code",
   "execution_count": 17,
   "metadata": {},
   "outputs": [
    {
     "name": "stdout",
     "output_type": "stream",
     "text": [
      "g5641.t1 details extr: 31, lyso: 1\r\n",
      "g15153.t1 details extr: 32\r\n",
      "g5641.t1 details extr: 31, lyso: 1\r\n",
      "g12562.t1 details extr: 30, lyso: 2\r\n",
      "g5616.t1 details extr: 31, mito: 1\r\n",
      "g15153.t1 details extr: 32\r\n",
      "g5641.t1 details extr: 31, lyso: 1\r\n",
      "g5641.t1 details extr: 31, lyso: 1\r\n",
      "g12562.t1 details extr: 30, lyso: 2\r\n",
      "g5616.t1 details extr: 31, mito: 1\r\n",
      "g702.t1 details extr: 29, plas: 2, lyso: 1\r\n",
      "g15153.t1 details extr: 32\r\n",
      "g13530.t1 details extr: 13, nucl: 6.5, lyso: 5, cyto_nucl: 4.5, plas: 3, E.R.: 3, cyto: 1.5\r\n",
      "g13530.t1 details extr: 13, nucl: 6.5, lyso: 5, cyto_nucl: 4.5, plas: 3, E.R.: 3, cyto: 1.5\r\n",
      "g14472.t1 details nucl: 28, plas: 2, cyto: 1, cysk: 1\r\n",
      "g4106.t1 details E.R.: 14.5, E.R._golg: 9.5, extr: 7, golg: 3.5, lyso: 3, pero: 2, plas: 1, mito: 1\r\n",
      "g7861.t1 details nucl: 16, cyto_nucl: 14, cyto: 8, plas: 5, pero: 1, cysk: 1, golg: 1\r\n",
      "g4970.t1 details plas: 32\r\n",
      "g10513.t1 details nucl: 20, cyto_nucl: 14.5, cyto: 7, extr: 3, E.R.: 1, golg: 1\r\n",
      "g11806.t1 details nucl: 18, cyto_nucl: 11.8333, mito: 5, extr: 4, cyto: 3.5, cyto_pero: 2.66667, cysk_plas: 1\r\n",
      "g16318.t1 details nucl: 20.5, cyto_nucl: 13, extr: 5, cyto: 4.5, E.R.: 1, golg: 1\r\n",
      "g16368.t1 details nucl: 20.5, cyto_nucl: 13, extr: 5, cyto: 4.5, E.R.: 1, golg: 1\r\n",
      "g3428.t1 details mito: 18, cyto: 11, extr: 2, nucl: 1\r\n",
      "g11513.t1 details cyto: 17, cyto_nucl: 12.8333, cyto_mito: 9.83333, nucl: 7.5, E.R.: 3, mito: 1.5, plas: 1, pero: 1, golg: 1\r\n",
      "g3428.t1 details mito: 18, cyto: 11, extr: 2, nucl: 1\r\n",
      "g5616.t1 details extr: 31, mito: 1\r\n",
      "g5616.t1 details extr: 31, mito: 1\r\n",
      "g12562.t1 details extr: 30, lyso: 2\r\n",
      "g5443.t1 details extr: 28, nucl: 3, cyto: 1\r\n",
      "g5502.t1 details extr: 31, lyso: 1\r\n",
      "g15153.t1 details extr: 32\r\n",
      "g5503.t1 details extr: 29, plas: 1, mito: 1, lyso: 1\r\n",
      "g5467.t1 details extr: 27, plas: 4, mito: 1\r\n",
      "g5641.t1 details extr: 31, lyso: 1\r\n",
      "g5641.t1 details extr: 31, lyso: 1\r\n",
      "g15153.t1 details extr: 32\r\n",
      "g15153.t1 details extr: 32\r\n",
      "g12562.t1 details extr: 30, lyso: 2\r\n",
      "g5641.t1 details extr: 31, lyso: 1\r\n",
      "g5616.t1 details extr: 31, mito: 1\r\n",
      "g5503.t1 details extr: 29, plas: 1, mito: 1, lyso: 1\r\n",
      "g5502.t1 details extr: 31, lyso: 1\r\n",
      "g5510.t1 details plas: 23, mito: 7, E.R.: 1, golg: 1\r\n",
      "g12510.t1 details plas: 29, cyto: 3\r\n",
      "g5237.t1 details plas: 24, mito: 8\r\n",
      "g12510.t1 details plas: 29, cyto: 3\r\n",
      "g11320.t1 details plas: 24.5, extr_plas: 16, extr: 6.5, lyso: 1\r\n",
      "g8312.t1 details nucl: 15.5, cyto_nucl: 15.5, cyto: 12.5, mito: 2, plas: 1, golg: 1\r\n",
      "g12510.t1 details plas: 29, cyto: 3\r\n",
      "g5927.t1 details nucl: 30.5, cyto_nucl: 16.5, cyto: 1.5\r\n",
      "g8100.t1 details nucl: 16.5, cyto_nucl: 12.5, cyto: 7.5, plas: 5, extr: 2, E.R.: 1\r\n",
      "g5641.t1 details extr: 31, lyso: 1\r\n",
      "g15153.t1 details extr: 32\r\n",
      "g5641.t1 details extr: 31, lyso: 1\r\n",
      "g12562.t1 details extr: 30, lyso: 2\r\n",
      "g5616.t1 details extr: 31, mito: 1\r\n",
      "g15153.t1 details extr: 32\r\n",
      "g12562.t1 details extr: 30, lyso: 2\r\n",
      "g5502.t1 details extr: 31, lyso: 1\r\n",
      "g5641.t1 details extr: 31, lyso: 1\r\n",
      "g5503.t1 details extr: 29, plas: 1, mito: 1, lyso: 1\r\n",
      "g1285.t1 details extr: 25, plas: 5, mito: 1, lyso: 1\r\n",
      "g15153.t1 details extr: 32\r\n",
      "g5616.t1 details extr: 31, mito: 1\r\n",
      "g12388.t1 details extr: 25, plas: 4, mito: 2, lyso: 1\r\n",
      "g5467.t1 details extr: 27, plas: 4, mito: 1\r\n",
      "g5641.t1 details extr: 31, lyso: 1\r\n",
      "g5641.t1 details extr: 31, lyso: 1\r\n",
      "g15153.t1 details extr: 32\r\n",
      "g15153.t1 details extr: 32\r\n",
      "g12562.t1 details extr: 30, lyso: 2\r\n",
      "g5641.t1 details extr: 31, lyso: 1\r\n",
      "g5616.t1 details extr: 31, mito: 1\r\n",
      "g5503.t1 details extr: 29, plas: 1, mito: 1, lyso: 1\r\n",
      "g5502.t1 details extr: 31, lyso: 1\r\n",
      "g12562.t1 details extr: 30, lyso: 2\r\n",
      "g5502.t1 details extr: 31, lyso: 1\r\n",
      "g5641.t1 details extr: 31, lyso: 1\r\n",
      "g5503.t1 details extr: 29, plas: 1, mito: 1, lyso: 1\r\n",
      "g1285.t1 details extr: 25, plas: 5, mito: 1, lyso: 1\r\n",
      "g15153.t1 details extr: 32\r\n",
      "g5616.t1 details extr: 31, mito: 1\r\n",
      "g12388.t1 details extr: 25, plas: 4, mito: 2, lyso: 1\r\n",
      "g5467.t1 details extr: 27, plas: 4, mito: 1\r\n",
      "g4106.t1 details E.R.: 14.5, E.R._golg: 9.5, extr: 7, golg: 3.5, lyso: 3, pero: 2, plas: 1, mito: 1\r\n",
      "g7861.t1 details nucl: 16, cyto_nucl: 14, cyto: 8, plas: 5, pero: 1, cysk: 1, golg: 1\r\n",
      "g4970.t1 details plas: 32\r\n",
      "g5616.t1 details extr: 31, mito: 1\r\n",
      "g5616.t1 details extr: 31, mito: 1\r\n",
      "g12562.t1 details extr: 30, lyso: 2\r\n",
      "g5443.t1 details extr: 28, nucl: 3, cyto: 1\r\n",
      "g5502.t1 details extr: 31, lyso: 1\r\n",
      "g15153.t1 details extr: 32\r\n",
      "g5503.t1 details extr: 29, plas: 1, mito: 1, lyso: 1\r\n",
      "g5467.t1 details extr: 27, plas: 4, mito: 1\r\n",
      "g5641.t1 details extr: 31, lyso: 1\r\n",
      "g15484.t1 details nucl: 17.5, cyto_nucl: 15.3333, cyto: 12, cyto_mito: 6.83333, plas: 1, golg: 1\r\n",
      "g15484.t1 details nucl: 17.5, cyto_nucl: 15.3333, cyto: 12, cyto_mito: 6.83333, plas: 1, golg: 1\r\n",
      "g15484.t1 details nucl: 17.5, cyto_nucl: 15.3333, cyto: 12, cyto_mito: 6.83333, plas: 1, golg: 1\r\n",
      "g11960.t1 details nucl: 32\r\n",
      "g702.t1 details extr: 29, plas: 2, lyso: 1\r\n",
      "g10514.t1 details nucl: 19, cyto_nucl: 15, cyto: 9, extr: 3, mito: 1\r\n",
      "g2203.t1 details plas: 29, nucl: 2, golg: 1\r\n",
      "g10514.t1 details nucl: 19, cyto_nucl: 15, cyto: 9, extr: 3, mito: 1\r\n",
      "g12562.t1 details extr: 30, lyso: 2\r\n",
      "g12562.t1 details extr: 30, lyso: 2\r\n",
      "g5502.t1 details extr: 31, lyso: 1\r\n",
      "g5641.t1 details extr: 31, lyso: 1\r\n",
      "g5503.t1 details extr: 29, plas: 1, mito: 1, lyso: 1\r\n",
      "g1285.t1 details extr: 25, plas: 5, mito: 1, lyso: 1\r\n",
      "g15153.t1 details extr: 32\r\n",
      "g5616.t1 details extr: 31, mito: 1\r\n",
      "g12388.t1 details extr: 25, plas: 4, mito: 2, lyso: 1\r\n",
      "g5467.t1 details extr: 27, plas: 4, mito: 1\r\n",
      "g3428.t1 details mito: 18, cyto: 11, extr: 2, nucl: 1\r\n",
      "g11513.t1 details cyto: 17, cyto_nucl: 12.8333, cyto_mito: 9.83333, nucl: 7.5, E.R.: 3, mito: 1.5, plas: 1, pero: 1, golg: 1\r\n",
      "g3679.t1 details extr: 26, mito: 2, lyso: 2, plas: 1, E.R.: 1\r\n",
      "g5237.t1 details plas: 24, mito: 8"
     ]
    }
   ],
   "source": [
    "!cat wolfp.txt"
   ]
  },
  {
   "cell_type": "markdown",
   "metadata": {},
   "source": [
    "### Proteins that are localized in nucleus"
   ]
  },
  {
   "cell_type": "code",
   "execution_count": 18,
   "metadata": {},
   "outputs": [],
   "source": [
    "!cat wolfp.txt | grep \"nucl\" | cut -d' ' -f1 > nucleotic_proteins_ids.txt"
   ]
  },
  {
   "cell_type": "code",
   "execution_count": 66,
   "metadata": {},
   "outputs": [
    {
     "name": "stdout",
     "output_type": "stream",
     "text": [
      "g7861.t1\r\n",
      "g5443.t1\r\n",
      "g2203.t1\r\n",
      "g16368.t1\r\n",
      "g5927.t1\r\n",
      "g14472.t1\r\n",
      "g10513.t1\r\n",
      "g13530.t1\r\n",
      "g16318.t1\r\n",
      "g15484.t1\r\n",
      "g11960.t1\r\n",
      "g10514.t1\r\n",
      "g3428.t1\r\n",
      "g8100.t1\r\n",
      "g8312.t1\r\n",
      "g11513.t1\r\n",
      "g11806.t1\r\n"
     ]
    }
   ],
   "source": [
    "!cat nucleotic_proteins_ids.txt"
   ]
  },
  {
   "cell_type": "markdown",
   "metadata": {},
   "source": [
    "## 6b. TargetP 1.1 Server\n"
   ]
  },
  {
   "cell_type": "code",
   "execution_count": 34,
   "metadata": {},
   "outputs": [
    {
     "name": "stdout",
     "output_type": "stream",
     "text": [
      "# TargetP-2.0\tOrganism: Non-Plant\tTimestamp: 20200228095320\r\n",
      "# ID\tPrediction\tOTHER\tSP\tmTP\tCS Position\r\n",
      "g5641.t1\tSP\t0.000130\t0.999869\t0.000001\tCS pos: 16-17. ACA-AS. Pr: 0.4873\r\n",
      "g15153.t1\tSP\t0.000014\t0.999986\t0.000000\tCS pos: 16-17. AYA-AN. Pr: 0.8378\r\n",
      "g5641.t1\tSP\t0.000130\t0.999869\t0.000001\tCS pos: 16-17. ACA-AS. Pr: 0.4873\r\n",
      "g12562.t1\tSP\t0.000076\t0.999923\t0.000001\tCS pos: 16-17. SYA-AN. Pr: 0.7910\r\n",
      "g5616.t1\tSP\t0.000067\t0.999933\t0.000000\tCS pos: 16-17. ACA-AN. Pr: 0.5270\r\n",
      "g15153.t1\tSP\t0.000014\t0.999986\t0.000000\tCS pos: 16-17. AYA-AN. Pr: 0.8378\r\n",
      "g5641.t1\tSP\t0.000130\t0.999869\t0.000001\tCS pos: 16-17. ACA-AS. Pr: 0.4873\r\n",
      "g5641.t1\tSP\t0.000130\t0.999869\t0.000001\tCS pos: 16-17. ACA-AS. Pr: 0.4873\r\n",
      "g12562.t1\tSP\t0.000076\t0.999923\t0.000001\tCS pos: 16-17. SYA-AN. Pr: 0.7910\r\n",
      "g5616.t1\tSP\t0.000067\t0.999933\t0.000000\tCS pos: 16-17. ACA-AN. Pr: 0.5270\r\n",
      "g702.t1\t\tSP\t0.000347\t0.999652\t0.000001\tCS pos: 16-17. ALA-AN. Pr: 0.8153\r\n",
      "g15153.t1\tSP\t0.000014\t0.999986\t0.000000\tCS pos: 16-17. AYA-AN. Pr: 0.8378\r\n",
      "g13530.t1\tSP\t0.116007\t0.883840\t0.000153\tCS pos: 19-20. TIP-FT. Pr: 0.3552\r\n",
      "g13530.t1\tSP\t0.116007\t0.883840\t0.000153\tCS pos: 19-20. TIP-FT. Pr: 0.3552\r\n",
      "g14472.t1\tOTHER\t0.999999\t0.000001\t0.000000\t\r\n",
      "g4106.t1\tOTHER\t0.729658\t0.266917\t0.003425\t\r\n",
      "g7861.t1\tOTHER\t0.999975\t0.000004\t0.000022\t\r\n",
      "g4970.t1\tOTHER\t0.999996\t0.000003\t0.000001\t\r\n",
      "g10513.t1\tOTHER\t0.999999\t0.000001\t0.000000\t\r\n",
      "g11806.t1\tOTHER\t0.998977\t0.000887\t0.000136\t\r\n",
      "g16318.t1\tOTHER\t0.997047\t0.002953\t0.000000\t\r\n",
      "g16368.t1\tOTHER\t0.996693\t0.003307\t0.000000\t\r\n",
      "g3428.t1\tOTHER\t0.999903\t0.000033\t0.000064\t\r\n",
      "g11513.t1\tOTHER\t0.999434\t0.000401\t0.000164\t\r\n",
      "g3428.t1\tOTHER\t0.999903\t0.000033\t0.000064\t\r\n",
      "g5616.t1\tSP\t0.000067\t0.999933\t0.000000\tCS pos: 16-17. ACA-AN. Pr: 0.5270\r\n",
      "g5616.t1\tSP\t0.000067\t0.999933\t0.000000\tCS pos: 16-17. ACA-AN. Pr: 0.5270\r\n",
      "g12562.t1\tSP\t0.000076\t0.999923\t0.000001\tCS pos: 16-17. SYA-AN. Pr: 0.7910\r\n",
      "g5443.t1\tOTHER\t0.952853\t0.043784\t0.003363\t\r\n",
      "g5502.t1\tSP\t0.001134\t0.998823\t0.000043\tCS pos: 16-17. ASA-GS. Pr: 0.6833\r\n",
      "g15153.t1\tSP\t0.000014\t0.999986\t0.000000\tCS pos: 16-17. AYA-AN. Pr: 0.8378\r\n",
      "g5503.t1\tSP\t0.001222\t0.998720\t0.000058\tCS pos: 16-17. ASA-GS. Pr: 0.6833\r\n",
      "g5467.t1\tSP\t0.000096\t0.999845\t0.000059\tCS pos: 16-17. ASA-GS. Pr: 0.6543\r\n",
      "g5641.t1\tSP\t0.000130\t0.999869\t0.000001\tCS pos: 16-17. ACA-AS. Pr: 0.4873\r\n",
      "g5641.t1\tSP\t0.000130\t0.999869\t0.000001\tCS pos: 16-17. ACA-AS. Pr: 0.4873\r\n",
      "g15153.t1\tSP\t0.000014\t0.999986\t0.000000\tCS pos: 16-17. AYA-AN. Pr: 0.8378\r\n",
      "g15153.t1\tSP\t0.000014\t0.999986\t0.000000\tCS pos: 16-17. AYA-AN. Pr: 0.8378\r\n",
      "g12562.t1\tSP\t0.000076\t0.999923\t0.000001\tCS pos: 16-17. SYA-AN. Pr: 0.7910\r\n",
      "g5641.t1\tSP\t0.000130\t0.999869\t0.000001\tCS pos: 16-17. ACA-AS. Pr: 0.4873\r\n",
      "g5616.t1\tSP\t0.000067\t0.999933\t0.000000\tCS pos: 16-17. ACA-AN. Pr: 0.5270\r\n",
      "g5503.t1\tSP\t0.001222\t0.998720\t0.000058\tCS pos: 16-17. ASA-GS. Pr: 0.6833\r\n",
      "g5502.t1\tSP\t0.001134\t0.998823\t0.000043\tCS pos: 16-17. ASA-GS. Pr: 0.6833\r\n",
      "g5510.t1\tOTHER\t0.999108\t0.000016\t0.000876\t\r\n",
      "g12510.t1\tOTHER\t0.999738\t0.000099\t0.000163\t\r\n",
      "g5237.t1\tOTHER\t0.999545\t0.000345\t0.000111\t\r\n",
      "g12510.t1\tOTHER\t0.999738\t0.000099\t0.000163\t\r\n",
      "g11320.t1\tSP\t0.000184\t0.999816\t0.000000\tCS pos: 20-21. AYS-AG. Pr: 0.7236\r\n",
      "g8312.t1\tOTHER\t0.999930\t0.000065\t0.000004\t\r\n",
      "g12510.t1\tOTHER\t0.999738\t0.000099\t0.000163\t\r\n",
      "g5927.t1\tOTHER\t0.999995\t0.000001\t0.000004\t\r\n",
      "g8100.t1\tOTHER\t0.999955\t0.000024\t0.000021\t\r\n",
      "g5641.t1\tSP\t0.000130\t0.999869\t0.000001\tCS pos: 16-17. ACA-AS. Pr: 0.4873\r\n",
      "g15153.t1\tSP\t0.000014\t0.999986\t0.000000\tCS pos: 16-17. AYA-AN. Pr: 0.8378\r\n",
      "g5641.t1\tSP\t0.000130\t0.999869\t0.000001\tCS pos: 16-17. ACA-AS. Pr: 0.4873\r\n",
      "g12562.t1\tSP\t0.000076\t0.999923\t0.000001\tCS pos: 16-17. SYA-AN. Pr: 0.7910\r\n",
      "g5616.t1\tSP\t0.000067\t0.999933\t0.000000\tCS pos: 16-17. ACA-AN. Pr: 0.5270\r\n",
      "g15153.t1\tSP\t0.000014\t0.999986\t0.000000\tCS pos: 16-17. AYA-AN. Pr: 0.8378\r\n",
      "g12562.t1\tSP\t0.000076\t0.999923\t0.000001\tCS pos: 16-17. SYA-AN. Pr: 0.7910\r\n",
      "g5502.t1\tSP\t0.001134\t0.998823\t0.000043\tCS pos: 16-17. ASA-GS. Pr: 0.6833\r\n",
      "g5641.t1\tSP\t0.000130\t0.999869\t0.000001\tCS pos: 16-17. ACA-AS. Pr: 0.4873\r\n",
      "g5503.t1\tSP\t0.001222\t0.998720\t0.000058\tCS pos: 16-17. ASA-GS. Pr: 0.6833\r\n",
      "g1285.t1\tSP\t0.003029\t0.996798\t0.000173\tCS pos: 16-17. ASA-TS. Pr: 0.7127\r\n",
      "g15153.t1\tSP\t0.000014\t0.999986\t0.000000\tCS pos: 16-17. AYA-AN. Pr: 0.8378\r\n",
      "g5616.t1\tSP\t0.000067\t0.999933\t0.000000\tCS pos: 16-17. ACA-AN. Pr: 0.5270\r\n",
      "g12388.t1\tSP\t0.000490\t0.999481\t0.000029\tCS pos: 16-17. ASA-SS. Pr: 0.6485\r\n",
      "g5467.t1\tSP\t0.000096\t0.999845\t0.000059\tCS pos: 16-17. ASA-GS. Pr: 0.6543\r\n",
      "g5641.t1\tSP\t0.000130\t0.999869\t0.000001\tCS pos: 16-17. ACA-AS. Pr: 0.4873\r\n",
      "g5641.t1\tSP\t0.000130\t0.999869\t0.000001\tCS pos: 16-17. ACA-AS. Pr: 0.4873\r\n",
      "g15153.t1\tSP\t0.000014\t0.999986\t0.000000\tCS pos: 16-17. AYA-AN. Pr: 0.8378\r\n",
      "g15153.t1\tSP\t0.000014\t0.999986\t0.000000\tCS pos: 16-17. AYA-AN. Pr: 0.8378\r\n",
      "g12562.t1\tSP\t0.000076\t0.999923\t0.000001\tCS pos: 16-17. SYA-AN. Pr: 0.7910\r\n",
      "g5641.t1\tSP\t0.000130\t0.999869\t0.000001\tCS pos: 16-17. ACA-AS. Pr: 0.4873\r\n",
      "g5616.t1\tSP\t0.000067\t0.999933\t0.000000\tCS pos: 16-17. ACA-AN. Pr: 0.5270\r\n",
      "g5503.t1\tSP\t0.001222\t0.998720\t0.000058\tCS pos: 16-17. ASA-GS. Pr: 0.6833\r\n",
      "g5502.t1\tSP\t0.001134\t0.998823\t0.000043\tCS pos: 16-17. ASA-GS. Pr: 0.6833\r\n",
      "g12562.t1\tSP\t0.000076\t0.999923\t0.000001\tCS pos: 16-17. SYA-AN. Pr: 0.7910\r\n",
      "g5502.t1\tSP\t0.001134\t0.998823\t0.000043\tCS pos: 16-17. ASA-GS. Pr: 0.6833\r\n",
      "g5641.t1\tSP\t0.000130\t0.999869\t0.000001\tCS pos: 16-17. ACA-AS. Pr: 0.4873\r\n",
      "g5503.t1\tSP\t0.001222\t0.998720\t0.000058\tCS pos: 16-17. ASA-GS. Pr: 0.6833\r\n",
      "g1285.t1\tSP\t0.003029\t0.996798\t0.000173\tCS pos: 16-17. ASA-TS. Pr: 0.7127\r\n",
      "g15153.t1\tSP\t0.000014\t0.999986\t0.000000\tCS pos: 16-17. AYA-AN. Pr: 0.8378\r\n",
      "g5616.t1\tSP\t0.000067\t0.999933\t0.000000\tCS pos: 16-17. ACA-AN. Pr: 0.5270\r\n",
      "g12388.t1\tSP\t0.000490\t0.999481\t0.000029\tCS pos: 16-17. ASA-SS. Pr: 0.6485\r\n",
      "g5467.t1\tSP\t0.000096\t0.999845\t0.000059\tCS pos: 16-17. ASA-GS. Pr: 0.6543\r\n",
      "g4106.t1\tOTHER\t0.729658\t0.266917\t0.003425\t\r\n",
      "g7861.t1\tOTHER\t0.999975\t0.000004\t0.000022\t\r\n",
      "g4970.t1\tOTHER\t0.999996\t0.000003\t0.000001\t\r\n",
      "g5616.t1\tSP\t0.000067\t0.999933\t0.000000\tCS pos: 16-17. ACA-AN. Pr: 0.5270\r\n",
      "g5616.t1\tSP\t0.000067\t0.999933\t0.000000\tCS pos: 16-17. ACA-AN. Pr: 0.5270\r\n",
      "g12562.t1\tSP\t0.000076\t0.999923\t0.000001\tCS pos: 16-17. SYA-AN. Pr: 0.7910\r\n",
      "g5443.t1\tOTHER\t0.952853\t0.043784\t0.003363\t\r\n",
      "g5502.t1\tSP\t0.001134\t0.998823\t0.000043\tCS pos: 16-17. ASA-GS. Pr: 0.6833\r\n",
      "g15153.t1\tSP\t0.000014\t0.999986\t0.000000\tCS pos: 16-17. AYA-AN. Pr: 0.8378\r\n",
      "g5503.t1\tSP\t0.001222\t0.998720\t0.000058\tCS pos: 16-17. ASA-GS. Pr: 0.6833\r\n",
      "g5467.t1\tSP\t0.000096\t0.999845\t0.000059\tCS pos: 16-17. ASA-GS. Pr: 0.6543\r\n",
      "g5641.t1\tSP\t0.000130\t0.999869\t0.000001\tCS pos: 16-17. ACA-AS. Pr: 0.4873\r\n",
      "g15484.t1\tOTHER\t0.999980\t0.000010\t0.000010\t\r\n",
      "g15484.t1\tOTHER\t0.999980\t0.000010\t0.000010\t\r\n",
      "g15484.t1\tOTHER\t0.999980\t0.000010\t0.000010\t\r\n",
      "g11960.t1\tOTHER\t0.999996\t0.000002\t0.000002\t\r\n",
      "g702.t1\t\tSP\t0.000347\t0.999652\t0.000001\tCS pos: 16-17. ALA-AN. Pr: 0.8153\r\n",
      "g10514.t1\tOTHER\t0.999543\t0.000349\t0.000107\t\r\n",
      "g2203.t1\tOTHER\t0.999869\t0.000031\t0.000100\t\r\n",
      "g10514.t1\tOTHER\t0.999543\t0.000349\t0.000107\t\r\n",
      "g12562.t1\tSP\t0.000076\t0.999923\t0.000001\tCS pos: 16-17. SYA-AN. Pr: 0.7910\r\n",
      "g12562.t1\tSP\t0.000076\t0.999923\t0.000001\tCS pos: 16-17. SYA-AN. Pr: 0.7910\r\n",
      "g5502.t1\tSP\t0.001134\t0.998823\t0.000043\tCS pos: 16-17. ASA-GS. Pr: 0.6833\r\n",
      "g5641.t1\tSP\t0.000130\t0.999869\t0.000001\tCS pos: 16-17. ACA-AS. Pr: 0.4873\r\n",
      "g5503.t1\tSP\t0.001222\t0.998720\t0.000058\tCS pos: 16-17. ASA-GS. Pr: 0.6833\r\n",
      "g1285.t1\tSP\t0.003029\t0.996798\t0.000173\tCS pos: 16-17. ASA-TS. Pr: 0.7127\r\n",
      "g15153.t1\tSP\t0.000014\t0.999986\t0.000000\tCS pos: 16-17. AYA-AN. Pr: 0.8378\r\n",
      "g5616.t1\tSP\t0.000067\t0.999933\t0.000000\tCS pos: 16-17. ACA-AN. Pr: 0.5270\r\n",
      "g12388.t1\tSP\t0.000490\t0.999481\t0.000029\tCS pos: 16-17. ASA-SS. Pr: 0.6485\r\n",
      "g5467.t1\tSP\t0.000096\t0.999845\t0.000059\tCS pos: 16-17. ASA-GS. Pr: 0.6543\r\n",
      "g3428.t1\tOTHER\t0.999903\t0.000033\t0.000064\t\r\n",
      "g11513.t1\tOTHER\t0.999434\t0.000401\t0.000164\t\r\n",
      "g3679.t1\tSP\t0.001755\t0.998023\t0.000222\tCS pos: 18-19. TFA-AR. Pr: 0.5523\r\n",
      "g5237.t1\tOTHER\t0.999545\t0.000345\t0.000111\t\r\n"
     ]
    }
   ],
   "source": [
    "!cat output_protein_type.txt"
   ]
  },
  {
   "cell_type": "markdown",
   "metadata": {},
   "source": [
    "## 7 Blast"
   ]
  },
  {
   "cell_type": "code",
   "execution_count": 49,
   "metadata": {},
   "outputs": [],
   "source": [
    "!cat nucleotic_proteins_ids.txt | xargs samtools faidx augustus.whole.fa > nucleotic_proteins.fa"
   ]
  },
  {
   "cell_type": "markdown",
   "metadata": {},
   "source": [
    "|id|best match|% query cover|E value| % Ident| Accession |\n",
    "|--|--|--|--|--|--|\n",
    "|g2203.t1  |Myogenesis-regulating glycosidase |75|2e-126|35.93|Q69ZQ1.2|\n",
    "|g3428.t1  |Myosin regulatory light chain | 91 | 8e-65 | 56.60 | Q09510.1 |\n",
    "|g5443.t1  |No significant similarity found. ||||||\n",
    "|g5927.t1  |Glucosamine 6-phosphate N-acetyltransferase|14 | 1e-18 |\t38.64 | Q17427.1|\n",
    "|g7861.t1  |SWI/SNF-related matrix-associated actin-dependent regulator of chromatin subfamily A-like protein 1|99|2e-71|37.21|B4F769.1||\n",
    "|g8100.t1  |Inositol monophosphatase 3 | 22 | 3e-46 |\t36.04 |\tQ2YDR3.1 |\n",
    "|g8312.t1  |Vacuolar protein sorting-associated protein 41 homolog | 84 |\t0.0 |\t40.84|\tQ5KU39.1|\n",
    "|g10513.t1 |No significant similarity found. ||||||\n",
    "|g10514.t1 |No significant similarity found.||||||\n",
    "|g11513.t1 |Trafficking protein particle complex subunit 9| 68 | 6e-83 |\t28.61|\tQ32PH0.1 |\n",
    "|g11806.t1 |No significant similarity found.||||||\n",
    "|g11960.t1 |E3 ubiquitin-protein ligase BRE1B |\t96 |\t6e-98|\t26.96|\tQ8CJB9.1|\n",
    "|g13530.t1 |No significant similarity found. ||||||\n",
    "|g14472.t1 |Damage suppressor protein|100|0|100|P0DOW4.1|\n",
    "|g15484.t1 |Vacuolar protein sorting-associated protein 51 homolog |78|\t0.0|\t45.03|\tQ155U0.1|\n",
    "|g16318.t1 |Eukaryotic translation initiation factor 3 subunit A| 40|\t4e-08|\t36.11|\tA2VD00.1|\n",
    "|g16368.t1 |Eukaryotic translation initiation factor 3 subunit A| 35|1e-05|39.29\t|A4II09.1|"
   ]
  },
  {
   "cell_type": "markdown",
   "metadata": {},
   "source": [
    "## HMMSCAN\n",
    "Only matches are presented in the table"
   ]
  },
  {
   "cell_type": "markdown",
   "metadata": {},
   "source": [
    "|Query Name\t|Top Hit |Description | E |Accession | Link |\n",
    "|--|--|--|--|--|--|\n",
    "|g2203.t1\t|Glyco_hydro_31\t|Glycosyl hydrolases family 31\t     | 1.1e-41 |PF01055.26 |http://pfam.xfam.org/family/PF01055.26\n",
    "|g7861.t1\t|SNF2_N\t    |SNF2 family N-terminal domain\t         | 7.9e-26 |PF00176.23 |http://pfam.xfam.org/family/PF00176.23\n",
    "|g8100.t1\t|Inositol_P\t|Inositol monophosphatase family         | 2.6e-37 |PF00459.25 |http://pfam.xfam.org/family/PF00459.25\n",
    "|g8312.t1\t|Clathrin\t|Region in Clathrin and VPS\t             | 7.2e-23 |PF00637.20 |http://pfam.xfam.org/family/PF00637.20\n",
    "|g11513.t1\t|TRAPPC9-Trs120\t|Transport protein Trs120 or TRAPPC9, TRAPP II complex subunit | 7.7e-10 |PF08626.11\t|http://pfam.xfam.org/family/PF08626.11\n",
    "|g11960.t1\t|zf-C3HC4\t|Zinc finger, C3HC4 type (RING finger)\t | 3.8e-05 |PF00097.25 |http://pfam.xfam.org/family/PF00097.25\n",
    "|g15484.t1\t|Vps51\t    |Vps51/Vps67\t                         | 2.3e-24 |PF08700.11 |http://pfam.xfam.org/family/PF08700.11"
   ]
  },
  {
   "cell_type": "code",
   "execution_count": null,
   "metadata": {},
   "outputs": [],
   "source": []
  },
  {
   "cell_type": "code",
   "execution_count": null,
   "metadata": {},
   "outputs": [],
   "source": []
  }
 ],
 "metadata": {
  "kernelspec": {
   "display_name": "Python 3",
   "language": "python",
   "name": "python3"
  },
  "language_info": {
   "codemirror_mode": {
    "name": "ipython",
    "version": 3
   },
   "file_extension": ".py",
   "mimetype": "text/x-python",
   "name": "python",
   "nbconvert_exporter": "python",
   "pygments_lexer": "ipython3",
   "version": "3.7.4"
  }
 },
 "nbformat": 4,
 "nbformat_minor": 2
}
