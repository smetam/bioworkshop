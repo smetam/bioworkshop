{
 "cells": [
  {
   "cell_type": "markdown",
   "metadata": {},
   "source": [
    "# Lab 5. Where do we come from?"
   ]
  },
  {
   "cell_type": "code",
   "execution_count": 21,
   "metadata": {},
   "outputs": [],
   "source": [
    "import pathlib\n",
    "\n",
    "from Bio import Phylo\n",
    "from matplotlib import pyplot as plt"
   ]
  },
  {
   "cell_type": "code",
   "execution_count": 37,
   "metadata": {},
   "outputs": [],
   "source": [
    "local_path = pathlib.Path()\n",
    "human_dir = local_path / 'Human'"
   ]
  },
  {
   "cell_type": "code",
   "execution_count": 27,
   "metadata": {},
   "outputs": [],
   "source": [
    "data = \"\"\n",
    "\n",
    "for fasta_file in human_dir.glob('*'):\n",
    "    file_name = str(fasta_file)\n",
    "    with open(file_name, 'r') as in_f:\n",
    "        population_name = file_name[file_name.find(' '):-6]\n",
    "        data += '>' + population_name + '_' + in_f.read().strip()[1:] + '\\n'\n",
    "\n",
    "with open('human_mt_dna.fasta', 'w') as out_f:\n",
    "    out_f.write(data)"
   ]
  },
  {
   "cell_type": "code",
   "execution_count": 57,
   "metadata": {},
   "outputs": [],
   "source": [
    "with open('all_alignment.fasta', 'r') as f:\n",
    "    s = f.read()\n",
    "    \n",
    "l = s.split('> ')[1:]\n",
    "sequnce_dict = {}\n",
    "for line in l:\n",
    "    split_pos = line.find('\\n')\n",
    "    sample = line[:split_pos]\n",
    "    seq = line[split_pos:].replace('\\n', '')\n",
    "    sequnce_dict[sample] = seq"
   ]
  },
  {
   "cell_type": "code",
   "execution_count": 62,
   "metadata": {},
   "outputs": [
    {
     "name": "stdout",
     "output_type": "stream",
     "text": [
      "Central_African_FJ713601.1\n",
      "['Denisova_FN673705.1', 'Denisova_FR695060.1', 'Denisova_KT780370.1']\n",
      "['Neanderthal_KX198088.1', 'Neanderthal_KX198084.1 ', 'Neanderthal_KX198085.1', 'Neanderthal_KX198086.1', 'Neanderthal_KX198087.1']\n"
     ]
    }
   ],
   "source": [
    "central_africa = next(filter(lambda s: s.startswith('Central'), sequnce_dict.keys()))\n",
    "denisovans_samples = list(filter(lambda s: s.startswith('Deniso'), sequnce_dict.keys()))\n",
    "neanderthal_samples = list(filter(lambda s: s.startswith('Neande'), sequnce_dict.keys()))\n",
    "non_homo_sapiens = denisovans_samples + neanderthal_samples\n",
    "print(central_africa)\n",
    "print(denisovans_samples)\n",
    "print(neanderthal_samples)"
   ]
  },
  {
   "cell_type": "code",
   "execution_count": 61,
   "metadata": {},
   "outputs": [],
   "source": [
    "def count_mutations(seq1, seq2):\n",
    "    mutations = 0\n",
    "    total = len(seq1)\n",
    "    for seq1_base, seq2_base in zip(seq1, seq2):\n",
    "        if seq1_base != seq2_base:\n",
    "            mutations += 1\n",
    "    return mutations"
   ]
  },
  {
   "cell_type": "markdown",
   "metadata": {},
   "source": [
    "According to the literature, the mutation rate for mitochondrial hominid DNA is equal to 1 mutation every 3000 years."
   ]
  },
  {
   "cell_type": "code",
   "execution_count": 89,
   "metadata": {},
   "outputs": [
    {
     "name": "stdout",
     "output_type": "stream",
     "text": [
      "Average number of mutations: 90.23\n",
      "This means that out mtDNA has around 45.1 mutations compared to mitochondrial Eve.\n",
      "Taking mutation rate into consideration we conclude that mitochondrial Eve is around 135340.9 years old.\n"
     ]
    }
   ],
   "source": [
    "original_seq = sequnce_dict[central_africa]\n",
    "count = 0\n",
    "total_mutations = 0\n",
    "for sample, seq in sequnce_dict.items():\n",
    "    if sample != central_africa and sample not in non_homo_sapiens:\n",
    "        count += 1\n",
    "        total_mutations += count_mutations(original_seq, seq)\n",
    "        \n",
    "avg_mutations = total_mutations / count\n",
    "mut_rate = 1. / 3000\n",
    "print(f'Average number of mutations: {avg_mutations:.2f}')\n",
    "print(f'This means that out mtDNA has around {avg_mutations / 2:.1f} mutations compared to mitochondrial Eve.')\n",
    "print(f'Taking mutation rate into consideration we conclude that mitochondrial Eve is around {avg_mutations / 2 * 3000:.1f} years old.')"
   ]
  },
  {
   "cell_type": "markdown",
   "metadata": {},
   "source": [
    "## Add Denisovans and Neanderthal "
   ]
  },
  {
   "cell_type": "code",
   "execution_count": 39,
   "metadata": {},
   "outputs": [
    {
     "name": "stdout",
     "output_type": "stream",
     "text": [
      "Denisova/FN673705 Denisova.fasta\n",
      "Denisova/FR695060 Denisova.fasta\n",
      "Denisova/KT780370 Denisova.fasta\n",
      "Neanderthal/GoyetQ57-2 Neanderthal.fasta\n",
      "Neanderthal/GoyetQ56-1 Neanderthal.fasta\n",
      "Neanderthal/GoyetQ305-4 Neanderthal.fasta\n",
      "Neanderthal/GoyetQ374a-1 Neanderthal.fasta\n",
      "Neanderthal/GoyetQ305-7 Neanderthal.fasta\n"
     ]
    }
   ],
   "source": [
    "with open('human_mt_dna.fasta', 'r') as in_f:\n",
    "    data = in_f.read().strip() + '\\n'\n",
    "\n",
    "for fasta_file in local_path.glob('Denisova/*'):\n",
    "    file_name = str(fasta_file)\n",
    "    print(file_name)\n",
    "    with open(file_name, 'r') as in_f:\n",
    "        data += in_f.read().strip() + '\\n'\n",
    "        \n",
    "for fasta_file in local_path.glob('Neanderthal/*'):\n",
    "    file_name = str(fasta_file)\n",
    "    print(file_name)\n",
    "    with open(file_name, 'r') as in_f:\n",
    "        data += in_f.read().strip() + '\\n'\n",
    "\n",
    "with open('human_neanderthal_denisovans.fasta', 'w') as out_f:\n",
    "    out_f.write(data)"
   ]
  },
  {
   "cell_type": "code",
   "execution_count": null,
   "metadata": {},
   "outputs": [],
   "source": [
    "original_seq = sequnce_dict[central_africa]\n",
    "count = 0\n",
    "total_mutations = 0\n",
    "for sample, seq in sequnce_dict.items():\n",
    "    if sample != central_africa and sample not in non_homo_sapiens:\n",
    "        count += 1\n",
    "        total_mutations += count_mutations(original_seq, seq)\n",
    "        \n",
    "avg_mutations = total_mutations / count\n",
    "print(len(seq))\n",
    "print(f'Average number of mutations: {avg_mutations:.2f}')\n",
    "print(f'Mutations per base: {avg_mutations / len(original_seq)}')\n",
    "# print(f'Calculated age of Mitochondrial Eve: {avg_mutations / len(original_seq) / (3 * 10 ** (-5)) * 20}')\n",
    "print(f'Calculated mutation rate: {avg_mutations / len(original_seq) / 200000} per base per year')"
   ]
  },
  {
   "cell_type": "code",
   "execution_count": 99,
   "metadata": {},
   "outputs": [
    {
     "name": "stdout",
     "output_type": "stream",
     "text": [
      "Average number of mutations: 220.2.\n",
      "In this case the last common ancestor for neanderthal and homo sapiens lived around 330367 years ago.\n"
     ]
    }
   ],
   "source": [
    "count = 0\n",
    "total_mutations = 0\n",
    "for neand_sample in neanderthal_samples:\n",
    "    neand_seq = sequnce_dict[neand_sample]\n",
    "    for sample, seq in sequnce_dict.items():\n",
    "        if sample not in non_homo_sapiens:\n",
    "            count += 1\n",
    "            total_mutations += count_mutations(neand_seq, seq)\n",
    "avg_mutations = total_mutations / count\n",
    "\n",
    "print(f'Average number of mutations: {avg_mutations:.1f}.')\n",
    "print(f'In this case the last common ancestor for neanderthal and homo sapiens lived around {avg_mutations / 2 / mut_rate:.0f} years ago.')"
   ]
  },
  {
   "cell_type": "code",
   "execution_count": 103,
   "metadata": {},
   "outputs": [
    {
     "name": "stdout",
     "output_type": "stream",
     "text": [
      "Average number of mutations: 395.0.\n",
      "In this case the last common ancestor for denisovans and homo sapiens lived around 592556 years ago.\n"
     ]
    }
   ],
   "source": [
    "count = 0\n",
    "total_mutations = 0\n",
    "for den_sample in denisovans_samples:\n",
    "    den_seq = sequnce_dict[den_sample]\n",
    "    for sample, seq in sequnce_dict.items():\n",
    "        if sample not in non_homo_sapiens:\n",
    "            count += 1\n",
    "            total_mutations += count_mutations(den_seq, seq)\n",
    "avg_mutations = total_mutations / count\n",
    "\n",
    "print(f'Average number of mutations: {avg_mutations:.1f}.')\n",
    "print(f'In this case the last common ancestor for denisovans and homo sapiens lived around {avg_mutations / 2 / mut_rate:.0f} years ago.')"
   ]
  },
  {
   "cell_type": "markdown",
   "metadata": {},
   "source": [
    "<img src=\"archaeopteryx_js.png\">"
   ]
  },
  {
   "cell_type": "code",
   "execution_count": null,
   "metadata": {},
   "outputs": [],
   "source": []
  }
 ],
 "metadata": {
  "kernelspec": {
   "display_name": "Python 3",
   "language": "python",
   "name": "python3"
  },
  "language_info": {
   "codemirror_mode": {
    "name": "ipython",
    "version": 3
   },
   "file_extension": ".py",
   "mimetype": "text/x-python",
   "name": "python",
   "nbconvert_exporter": "python",
   "pygments_lexer": "ipython3",
   "version": "3.7.4"
  }
 },
 "nbformat": 4,
 "nbformat_minor": 2
}
