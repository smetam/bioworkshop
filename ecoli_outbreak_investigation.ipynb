{
 "cells": [
  {
   "cell_type": "markdown",
   "metadata": {},
   "source": [
    "# Investigation of ecoli outbreak in April 2011, de novo genome assembly"
   ]
  },
  {
   "cell_type": "markdown",
   "metadata": {},
   "source": [
    "## 1. Exploring dataset"
   ]
  },
  {
   "cell_type": "code",
   "execution_count": null,
   "metadata": {},
   "outputs": [],
   "source": [
    "!fastqc -o . SRR292862_1.fastq SRR292862_2.fastq SRR292770_1.fastq SRR292770_2.fastq SRR292678sub_S1_L001_R1_001.fastq SRR292678sub_S1_L001_R2_001.fastq "
   ]
  },
  {
   "cell_type": "markdown",
   "metadata": {},
   "source": [
    "<img src=\"images/fastqc_quality.png\">"
   ]
  },
  {
   "cell_type": "code",
   "execution_count": 31,
   "metadata": {},
   "outputs": [
    {
     "name": "stdout",
     "output_type": "stream",
     "text": [
      "@SRX079804:1:SRR292678:1:1101:1:1 1:N:0:1\r\n",
      "ATGTTGCCGGAATATGCTTATGGCATCGACACGTTCTTACTATGTGTCGATGAAATTCGCTTTTTTAAACATGTCTTCTGGATATGTTTA\r\n",
      "+\r\n",
      "HHHHHHFHFGHHHHHHHHHFHFHHHGFHEHGHEFHHHHHHHHHHHHHHHHFHHHHHHHHHFHHHEHDGFHDFFEGGGGFGHBHHHE>EEE\r\n",
      "@SRX079804:1:SRR292678:1:1101:3:3 1:N:0:1\r\n",
      "AACAACGCTACCGACATCATCGTAAATTGCTGAAGCTATGCAATTCAGACCTACAACATGCTCTTCTTTATCTACGGTATAGCCCAGTTC\r\n",
      "+\r\n",
      "GGGGGGGGGGGGGGGGGGGEGGCGEGGGGGGGFGGGFBG>GGGGGGGGGGGEFGDGGGEFFDGBGGFG?GEGFEGEGEGEEDE?EEECDE\r\n",
      "@SRX079804:1:SRR292678:1:1101:4:4 1:N:0:1\r\n",
      "AGGATGGTTATTTTAAACCCGAGCAGCGTCAGGCGCTGTTTGAACGCATTCATGCCAGCGGAGCGCAAATCGTCACCGTTGCGATGGGAT\r\n",
      "+\r\n",
      "HHHHHHHHHHEFHFHHHHHHHBGGGHDHFHFHH@FHFHEGHHEDFH?EGHFFEHBG=GFFF=FBFFFHFFHFEHEFFFFF@EEEEHGHBF\r\n",
      "@SRX079804:1:SRR292678:1:1101:5:5 1:N:0:1\r\n",
      "TCAGCTTTTTGCCGACTACAAACTGCTACCACCGTTCCGCCAGCTCGACCGTAACAGCTACGCCCTGACAGAAGCCGAGCGCAATGCCAG\r\n",
      "+\r\n",
      "HGHGCHHHEHEEFHHGHHHHGGHFHHHHBHGGGGEHFGFFFFH;EBEFFFHFFH5FEABEGAFBF2@:>A?CCADGEFF>EEECA:8B?@\r\n",
      "@SRX079804:1:SRR292678:1:1101:6:6 1:N:0:1\r\n",
      "CGCCGACGCTGGTTGAAGAGCAAACCGTGCTGCAAAAGGTCACCGAAGTCAGCCGCCATTATGGTGAAGCCCTTTCCGCCCGCTTCGGCC\r\n",
      "+\r\n",
      "FCDDFDGGEFGGDGGEFGGGGFEFGGGEGGBGGFFGGGGDFEGEFAEFBFGFGFGFFG@FBCF=@FEC?EFFFFFF?FFGD>G-FED;.D\r\n"
     ]
    }
   ],
   "source": [
    "!head -20 SRR292678sub_S1_L001_R1_001.fastq"
   ]
  },
  {
   "cell_type": "markdown",
   "metadata": {},
   "source": [
    "## 2. k-mer profile and genome size estimation"
   ]
  },
  {
   "cell_type": "code",
   "execution_count": 4,
   "metadata": {},
   "outputs": [],
   "source": [
    "!jellyfish count -m 31 -s 5M -C -o mer_31.jf SRR292678sub_S1_L001_R1_001.fastq"
   ]
  },
  {
   "cell_type": "code",
   "execution_count": 5,
   "metadata": {},
   "outputs": [],
   "source": [
    "!jellyfish histo mer_31.jf > mer_31_depth_histo.csv"
   ]
  },
  {
   "cell_type": "code",
   "execution_count": 7,
   "metadata": {},
   "outputs": [
    {
     "name": "stdout",
     "output_type": "stream",
     "text": [
      "1 6755622\r\n",
      "2 266510\r\n",
      "3 48557\r\n",
      "4 18950\r\n",
      "5 11926\r\n",
      "6 9246\r\n",
      "7 8919\r\n",
      "8 9025\r\n",
      "9 9349\r\n",
      "10 10418\r\n",
      "11 11379\r\n",
      "12 12046\r\n",
      "13 12854\r\n",
      "14 14664\r\n",
      "15 15701\r\n",
      "16 16998\r\n",
      "17 18624\r\n",
      "18 19700\r\n",
      "19 20947\r\n",
      "20 22880\r\n"
     ]
    }
   ],
   "source": [
    "!head -20 mer_31_depth_histo.csv"
   ]
  },
  {
   "cell_type": "code",
   "execution_count": 8,
   "metadata": {},
   "outputs": [],
   "source": [
    "import pandas as pd\n",
    "import matplotlib.pyplot as plt\n",
    "%matplotlib inline"
   ]
  },
  {
   "cell_type": "code",
   "execution_count": 37,
   "metadata": {},
   "outputs": [],
   "source": [
    "df = pd.read_csv('mer_31_depth_histo.csv', header=None, sep=' ', names=['depth', 'num'], index_col=0)"
   ]
  },
  {
   "cell_type": "code",
   "execution_count": 38,
   "metadata": {},
   "outputs": [
    {
     "name": "stdout",
     "output_type": "stream",
     "text": [
      "           num\n",
      "depth         \n",
      "1      6755622\n",
      "2       266510\n",
      "3        48557\n",
      "4        18950\n",
      "5        11926\n"
     ]
    }
   ],
   "source": [
    "print(df.head())"
   ]
  },
  {
   "cell_type": "code",
   "execution_count": 48,
   "metadata": {},
   "outputs": [
    {
     "data": {
      "text/plain": [
       "<matplotlib.axes._subplots.AxesSubplot at 0x1200b4dd0>"
      ]
     },
     "execution_count": 48,
     "metadata": {},
     "output_type": "execute_result"
    },
    {
     "data": {
      "image/png": "[encoded data removed]",
      "text/plain": [
       "<Figure size 432x288 with 1 Axes>"
      ]
     },
     "metadata": {
      "needs_background": "light"
     },
     "output_type": "display_data"
    }
   ],
   "source": [
    "df[55:70].plot.bar()"
   ]
  },
  {
   "cell_type": "code",
   "execution_count": 50,
   "metadata": {},
   "outputs": [],
   "source": [
    "L = 90\n",
    "M = 64\n",
    "K = 31\n",
    "T = 5499346 * 90\n",
    "N = (M * L) / (L - K + 1)\n",
    "genome_size = T / N\n",
    "# (N: Depth of coverage, M: Kmer peak, K: Kmer-size, L: avg read length T: Total bases)\n",
    "\n"
   ]
  },
  {
   "cell_type": "code",
   "execution_count": 51,
   "metadata": {},
   "outputs": [
    {
     "name": "stdout",
     "output_type": "stream",
     "text": [
      "5155636\n"
     ]
    }
   ],
   "source": [
    "print(int(genome_size))"
   ]
  },
  {
   "cell_type": "code",
   "execution_count": 20,
   "metadata": {},
   "outputs": [],
   "source": [
    "!gunzip spades_results/corrected/SRR292678sub_S1_L001_R1_001.00.0_0.cor.fastq.gz"
   ]
  },
  {
   "cell_type": "code",
   "execution_count": 44,
   "metadata": {},
   "outputs": [],
   "source": [
    "!jellyfish count -m 31 -s 6M -C -o cor_mer_31.jf spades_results/corrected/SRR292678sub_S1_L001_R1_001.00.0_0.cor.fastq"
   ]
  },
  {
   "cell_type": "code",
   "execution_count": 45,
   "metadata": {},
   "outputs": [],
   "source": [
    "!jellyfish histo cor_mer_31.jf > cor_mer_31_depth_histo.csv"
   ]
  },
  {
   "cell_type": "code",
   "execution_count": 46,
   "metadata": {},
   "outputs": [],
   "source": [
    "df2 = pd.read_csv('cor_mer_31_depth_histo.csv', header=None, sep=' ', names=['depth', 'num'], index_col=0)"
   ]
  },
  {
   "cell_type": "code",
   "execution_count": 49,
   "metadata": {},
   "outputs": [
    {
     "data": {
      "text/plain": [
       "<matplotlib.axes._subplots.AxesSubplot at 0x120236c10>"
      ]
     },
     "execution_count": 49,
     "metadata": {},
     "output_type": "execute_result"
    },
    {
     "data": {
      "image/png": "[encoded data removed]",
      "text/plain": [
       "<Figure size 432x288 with 1 Axes>"
      ]
     },
     "metadata": {
      "needs_background": "light"
     },
     "output_type": "display_data"
    }
   ],
   "source": [
    "df2[45:70].plot.bar()\n"
   ]
  },
  {
   "cell_type": "markdown",
   "metadata": {},
   "source": [
    "## 3. Genome assembly using SPAdes"
   ]
  },
  {
   "cell_type": "markdown",
   "metadata": {},
   "source": [
    "SPAdes results were muted due to being massive, but run as follows:"
   ]
  },
  {
   "cell_type": "code",
   "execution_count": null,
   "metadata": {},
   "outputs": [],
   "source": [
    "!spades.py --test"
   ]
  },
  {
   "cell_type": "code",
   "execution_count": null,
   "metadata": {},
   "outputs": [],
   "source": [
    "!spades.py -1 SRR292678sub_S1_L001_R1_001.fastq -2 SRR292678sub_S1_L001_R2_001.fastq -o spades_results"
   ]
  },
  {
   "cell_type": "code",
   "execution_count": null,
   "metadata": {},
   "outputs": [],
   "source": [
    "!spades.py --pe1-1 SRR292678sub_S1_L001_R1_001.fastq --pe1-2 SRR292678sub_S1_L001_R2_001.fastq --mp1-1 SRR292862_1.fastq --mp1-2 SRR292862_2.fastq --mp2-1 SRR292770_1.fastq --mp2-2 SRR292770_2.fastq -o spades_results_all_libs"
   ]
  },
  {
   "cell_type": "markdown",
   "metadata": {},
   "source": [
    "## 4. Quast analysis"
   ]
  },
  {
   "cell_type": "markdown",
   "metadata": {},
   "source": [
    "<img src=\"images/quast_results1.png\">\n",
    "<img src=\"images/quast_results2.png\">"
   ]
  },
  {
   "cell_type": "markdown",
   "metadata": {},
   "source": [
    "## 5. Genome annotation"
   ]
  },
  {
   "cell_type": "code",
   "execution_count": 59,
   "metadata": {},
   "outputs": [],
   "source": [
    "!prokka three_libs_spades_out/contigs.fasta --centre 15 --compliant --outdir prokka_results --quiet"
   ]
  },
  {
   "cell_type": "markdown",
   "metadata": {},
   "source": [
    "## 6. Finding the closest relative of E. coli X"
   ]
  },
  {
   "cell_type": "code",
   "execution_count": 62,
   "metadata": {},
   "outputs": [
    {
     "name": "stdout",
     "output_type": "stream",
     "text": [
      "##gff-version 3\r\n",
      "NODE_184_length_223_cov_0.720238_ID_565088\tbarrnap:0.9\trRNA\t95\t205\t5.6e-18\t-\t.\tName=5S_rRNA;product=5S ribosomal RNA\r\n",
      "NODE_1_length_2815616_cov_74.3819_ID_564387\tbarrnap:0.9\trRNA\t322892\t323002\t2.2e-11\t-\t.\tName=5S_rRNA;product=5S ribosomal RNA\r\n",
      "NODE_1_length_2815616_cov_74.3819_ID_564387\tbarrnap:0.9\trRNA\t323101\t326001\t0\t-\t.\tName=23S_rRNA;product=23S ribosomal RNA\r\n",
      "NODE_1_length_2815616_cov_74.3819_ID_564387\tbarrnap:0.9\trRNA\t326359\t327896\t0\t-\t.\tName=16S_rRNA;product=16S ribosomal RNA\r\n",
      "NODE_1_length_2815616_cov_74.3819_ID_564387\tbarrnap:0.9\trRNA\t592162\t592272\t6.1e-11\t-\t.\tName=5S_rRNA;product=5S ribosomal RNA\r\n",
      "NODE_1_length_2815616_cov_74.3819_ID_564387\tbarrnap:0.9\trRNA\t592407\t592517\t2.2e-11\t-\t.\tName=5S_rRNA;product=5S ribosomal RNA\r\n",
      "NODE_1_length_2815616_cov_74.3819_ID_564387\tbarrnap:0.9\trRNA\t592616\t595516\t0\t-\t.\tName=23S_rRNA;product=23S ribosomal RNA\r\n",
      "NODE_1_length_2815616_cov_74.3819_ID_564387\tbarrnap:0.9\trRNA\t595966\t597503\t0\t-\t.\tName=16S_rRNA;product=16S ribosomal RNA\r\n",
      "NODE_1_length_2815616_cov_74.3819_ID_564387\tbarrnap:0.9\trRNA\t2500844\t2500954\t2.2e-11\t-\t.\tName=5S_rRNA;product=5S ribosomal RNA\r\n",
      "NODE_1_length_2815616_cov_74.3819_ID_564387\tbarrnap:0.9\trRNA\t2501053\t2503953\t0\t-\t.\tName=23S_rRNA;product=23S ribosomal RNA\r\n",
      "NODE_1_length_2815616_cov_74.3819_ID_564387\tbarrnap:0.9\trRNA\t2504403\t2505940\t0\t-\t.\tName=16S_rRNA;product=16S ribosomal RNA\r\n",
      "NODE_5_length_236041_cov_85.7779_ID_563492\tbarrnap:0.9\trRNA\t43835\t45372\t0\t+\t.\tName=16S_rRNA;product=16S ribosomal RNA\r\n",
      "NODE_5_length_236041_cov_85.7779_ID_563492\tbarrnap:0.9\trRNA\t45873\t48630\t0\t+\t.\tName=23S_rRNA;product=23S ribosomal RNA\r\n",
      "NODE_5_length_236041_cov_85.7779_ID_563492\tbarrnap:0.9\trRNA\t48983\t49084\t5.5e-10\t+\t.\tName=5S_rRNA;product=5S ribosomal RNA\r\n",
      "NODE_5_length_236041_cov_85.7779_ID_563492\tbarrnap:0.9\trRNA\t85462\t86999\t0\t+\t.\tName=16S_rRNA;product=16S ribosomal RNA\r\n",
      "NODE_5_length_236041_cov_85.7779_ID_563492\tbarrnap:0.9\trRNA\t87500\t90257\t0\t+\t.\tName=23S_rRNA;product=23S ribosomal RNA\r\n",
      "NODE_5_length_236041_cov_85.7779_ID_563492\tbarrnap:0.9\trRNA\t90356\t90466\t2.2e-11\t+\t.\tName=5S_rRNA;product=5S ribosomal RNA\r\n",
      "NODE_6_length_209194_cov_80.6603_ID_563563\tbarrnap:0.9\trRNA\t111955\t113492\t0\t+\t.\tName=16S_rRNA;product=16S ribosomal RNA\r\n",
      "NODE_6_length_209194_cov_80.6603_ID_563563\tbarrnap:0.9\trRNA\t113850\t116750\t0\t+\t.\tName=23S_rRNA;product=23S ribosomal RNA\r\n",
      "NODE_6_length_209194_cov_80.6603_ID_563563\tbarrnap:0.9\trRNA\t116849\t116959\t2.2e-11\t+\t.\tName=5S_rRNA;product=5S ribosomal RNA\r\n",
      "NODE_71_length_720_cov_1.1218_ID_565136\tbarrnap:0.9\trRNA\t314\t719\t9.8e-23\t+\t.\tName=16S_rRNA;product=16S ribosomal RNA (partial);note=aligned only 25 percent of the 16S ribosomal RNA\r\n",
      "NODE_9_length_87669_cov_86.9393_ID_563775\tbarrnap:0.9\trRNA\t84700\t84810\t2.2e-11\t-\t.\tName=5S_rRNA;product=5S ribosomal RNA\r\n",
      "NODE_9_length_87669_cov_86.9393_ID_563775\tbarrnap:0.9\trRNA\t84909\t87664\t0\t-\t.\tName=23S_rRNA;product=23S ribosomal RNA\r\n"
     ]
    }
   ],
   "source": [
    "!barrnap three_libs_spades_out/scaffolds.fasta --outseq rna_matches --quiet"
   ]
  },
  {
   "cell_type": "code",
   "execution_count": 65,
   "metadata": {},
   "outputs": [
    {
     "name": "stdout",
     "output_type": "stream",
     "text": [
      ">16S_rRNA::NODE_1_length_2815616_cov_74.3819_ID_564387:326358-327896(-)\r\n",
      "TTGAAGAGTTTGATCATGGCTCAGATTGAACGCTGGCGGCAGGCCTAACACATGCAAGTCGAACGGTAACAGGAAACAGCTTGCTGTTTCGCTGACGAGTGGCGGACGGGTGAGTAATGTCTGGGAAACTGCCTGATGGAGGGGGATAACTACTGGAAACGGTAGCTAATACCGCATAACGTCGCAAGACCAAAGAGGGGGACCTTCGGGCCTCTTGCCATCGGATGTGCCCAGATGGGATTAGCTTGTTGGTGGGGTAACGGCTCACCAAGGCGACGATCCCTAGCTGGTCTGAGAGGATGACCAGCCACACTGGAACTGAGACACGGTCCAGACTCCTACGGGAGGCAGCAGTGGGGAATATTGCACAATGGGCGCAAGCCTGATGCAGCCATGCCGCGTGTATGAAGAAGGCCTTCGGGTTGTAAAGTACTTTCAGCGGGGAGGAAGGGAGTAAAGTTAATACCTTTGCTCATTGACGTTACCCGCAGAAGAAGCACCGGCTAACTCCGTGCCAGCAGCCGCGGTAATACGGAGGGTGCAAGCGTTAATCGGAATTACTGGGCGTAAAGCGCACGCAGGCGGTTTGTTAAGTCAGATGTGAAATCCCCGGGCTCAACCTGGGAACTGCATCTGATACTGGCAAGCTTGAGTCTCGTAGAGGGGGGTAGAATTCCAGGTGTAGCGGTGAAATGCGTAGAGATCTGGAGGAATACCGGTGGCGAAGGCGGCCCCCTGGACGAAGACTGACGCTCAGGTGCGAAAGCGTGGGGAGCAAACAGGATTAGATACCCTGGTAGTCCACGCCGTAAACGATGTCGACTTGGAGGTTGTGCCCTTGAGGCGTGGCTTCCGGAGCTAACGCGTTAAGTCGACCGCCTGGGGAGTACGGCCGCAAGGTTAAAACTCAAATGAATTGACGGGGGCCCGCACAAGCGGTGGAGCATGTGGTTTAATTCGATGCAACGCGAAGAACCTTACCTGGTCTTGACATCCACGGAAGTTTTCAGAGATGAGAATGTGCCTTCGGGAACCGTGAGACAGGTGCTGCATGGCTGTCGTCAGCTCGTGTTGTGAAATGTTGGGTTAAGTCCCGCAACGAGCGCAACCCTTATCCTTTGTTGCCAGCGGTCCGGCCGGGAACTCAAAGGAGACTGCCAGTGATAAACTGGAGGAAGGTGGGGATGACGTCAAGTCATCATGGCCCTTACGACCAGGGCTACACACGTGCTACAATGGCGCATACAAAGAGAAGCGACCTCGCGAGAGCAAGCGGACCTCATAAAGTGCGTCGTAGTCCGGATTGGAGTCTGCAACTCGACTCCATGAAGTCGGAATCGCTAGTAATCGTGGATCAGAATGCCACGGTGAATACGTTCCCGGGCCTTGTACACACCGCCCGTCACACCATGGGAGTGGGTTGCAAAAGAAGTAGGTAGCTTAACCTTCGGGAGGGCGCTTACCACTTTGTGATTCATGACTGGGGTGAAGTCGTAACAAGGTAACCGTAGGGGAACCTGCGGTTGGATCACCTCCTT\r\n",
      ">16S_rRNA::NODE_1_length_2815616_cov_74.3819_ID_564387:595965-597503(-)\r\n"
     ]
    }
   ],
   "source": [
    "!head -3 rna_matches"
   ]
  },
  {
   "cell_type": "markdown",
   "metadata": {},
   "source": [
    "Now BLAST the sequences to find the closest relative."
   ]
  },
  {
   "cell_type": "markdown",
   "metadata": {},
   "source": [
    "## BLAST results: https://www.ncbi.nlm.nih.gov/nucleotide/NC_011748.1?report=genbank&log$=nuclalign&blast_rank=1&RID=ZR8YX4H8014"
   ]
  },
  {
   "cell_type": "markdown",
   "metadata": {},
   "source": [
    "## 7. What is the genetic cause of HUS?\n"
   ]
  },
  {
   "cell_type": "markdown",
   "metadata": {},
   "source": [
    "Using mauve alignment of assembled genome to E. coli 55989 we can search for genes of interest.\n",
    "\n",
    "Genes responsible for shiga toxin:\n",
    "\n",
    "stxA (484520-485479)\n",
    "\n",
    "stxB (484239-484508)\n",
    "\n"
   ]
  },
  {
   "cell_type": "markdown",
   "metadata": {},
   "source": [
    "<img src=\"images/mauve_align.png\">"
   ]
  },
  {
   "cell_type": "markdown",
   "metadata": {},
   "source": [
    "## 8. Tracing the source of toxin genes in E. coli X"
   ]
  },
  {
   "cell_type": "markdown",
   "metadata": {},
   "source": [
    "Lets look at the result of search for antibiotic resistance genes in ResSeq:"
   ]
  },
  {
   "cell_type": "code",
   "execution_count": 72,
   "metadata": {},
   "outputs": [
    {
     "name": "stdout",
     "output_type": "stream",
     "text": [
      "RESISTANCE E. COLI 55989\n",
      "       Database Resistance gene\n",
      "0     macrolide          mdf(A)\n",
      "1  tetracycline          tet(B)\n"
     ]
    }
   ],
   "source": [
    "res_df = pd.read_csv('resfinder_ecoli_55989.tsv', sep='\\t')\n",
    "print('RESISTANCE E. COLI 55989')\n",
    "print(res_df[['Database', 'Resistance gene']])"
   ]
  },
  {
   "cell_type": "code",
   "execution_count": 74,
   "metadata": {},
   "outputs": [
    {
     "name": "stdout",
     "output_type": "stream",
     "text": [
      "RESISTANCE E. COLI X\n",
      "          Database Resistance gene\n",
      "0     trimethoprim           dfrA7\n",
      "1     tetracycline          tet(A)\n",
      "2      beta-lactam     blaCTX-M-15\n",
      "3      beta-lactam       blaTEM-1B\n",
      "4        macrolide          mdf(A)\n",
      "5   aminoglycoside     aph(3'')-Ib\n",
      "6   aminoglycoside       aph(6)-Id\n",
      "7     sulphonamide            sul1\n",
      "8     sulphonamide            sul1\n",
      "9     sulphonamide            sul1\n",
      "10    sulphonamide            sul1\n",
      "11    sulphonamide            sul2\n"
     ]
    }
   ],
   "source": [
    "res_x_df = pd.read_csv('resfinder_ecoli_x.tsv', sep='\\t')\n",
    "print('RESISTANCE E. COLI X')\n",
    "print(res_x_df[['Database', 'Resistance gene']])"
   ]
  },
  {
   "cell_type": "code",
   "execution_count": 78,
   "metadata": {},
   "outputs": [
    {
     "name": "stdout",
     "output_type": "stream",
     "text": [
      "Newly developed resistance type for E. coli X:\n",
      "{'beta-lactam', 'aminoglycoside', 'sulphonamide', 'trimethoprim'}\n"
     ]
    }
   ],
   "source": [
    "print('Newly developed resistance type for E. coli X:')\n",
    "print(set(res_x_df['Database']) - set(res_df['Database']))"
   ]
  },
  {
   "cell_type": "markdown",
   "metadata": {},
   "source": [
    "## 10. Antibiotic resistance mechanism"
   ]
  },
  {
   "cell_type": "markdown",
   "metadata": {},
   "source": [
    "Once again we look at mauve allignment to find out how the new resistance was obtained.\n",
    "We can see multiple phage proteins, mobile element proteins and trasposase.\n",
    "These facts make us think that the genes were exchanged with a prophage by a horizontal genetic transfer (HGT). "
   ]
  },
  {
   "cell_type": "markdown",
   "metadata": {},
   "source": [
    "<img src=\"images/phage.png\">\n",
    "<img src=\"images/mobile_element.png\">"
   ]
  },
  {
   "cell_type": "code",
   "execution_count": null,
   "metadata": {},
   "outputs": [],
   "source": []
  }
 ],
 "metadata": {
  "kernelspec": {
   "display_name": "Python 3",
   "language": "python",
   "name": "python3"
  },
  "language_info": {
   "codemirror_mode": {
    "name": "ipython",
    "version": 3
   },
   "file_extension": ".py",
   "mimetype": "text/x-python",
   "name": "python",
   "nbconvert_exporter": "python",
   "pygments_lexer": "ipython3",
   "version": "3.7.4"
  }
 },
 "nbformat": 4,
 "nbformat_minor": 2
}
