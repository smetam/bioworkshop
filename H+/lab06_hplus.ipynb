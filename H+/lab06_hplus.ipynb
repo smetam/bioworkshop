{
 "cells": [
  {
   "cell_type": "markdown",
   "metadata": {},
   "source": [
    "# H+, or how to build a perfect human.\n"
   ]
  },
  {
   "cell_type": "code",
   "execution_count": 18,
   "metadata": {},
   "outputs": [],
   "source": [
    "import ftplib\n",
    "import pandas as pd\n",
    "from Bio import Entrez"
   ]
  },
  {
   "cell_type": "code",
   "execution_count": null,
   "metadata": {},
   "outputs": [],
   "source": [
    "server = 'ftp.ncbi.nlm.nih.gov'\n",
    "collection = '/pub/clinvar/vcf_GRCh37/'\n",
    "file = 'clinvar.vcf.gz'\n",
    "local_filepath = 'clinvar.vcf.gz'\n",
    "\n",
    "ftp = ftplib.FTP(server)\n",
    "ftp.login()\n",
    "ftp.cwd(collection)\n",
    "ftp.retrbinary(\"RETR {}\".format(file), open(local_filepath, 'wb').write)\n",
    "ftp.retrbinary(\"RETR {}.tbi\".format(file), open(local_filepath + '.tbi', 'wb').write)\n",
    "ftp.quit()"
   ]
  },
  {
   "cell_type": "code",
   "execution_count": 77,
   "metadata": {},
   "outputs": [
    {
     "name": "stdout",
     "output_type": "stream",
     "text": [
      "total 295352\r\n",
      "drwxr-xr-x  19 b2w  staff   608B 31 мар 14:23 \u001b[34m.\u001b[m\u001b[m\r\n",
      "drwxr-xr-x  40 b2w  staff   1,3K 30 мар 15:24 \u001b[34m..\u001b[m\u001b[m\r\n",
      "-rw-r--r--@  1 b2w  staff   6,0K 30 мар 17:10 .DS_Store\r\n",
      "drwxr-xr-x   3 b2w  staff    96B 30 мар 16:53 \u001b[34m.ipynb_checkpoints\u001b[m\u001b[m\r\n",
      "-rw-r--r--@  1 b2w  staff    23M 30 мар 15:25 23&me.txt\r\n",
      "-rw-r--r--@  1 b2w  staff    24M 30 мар 16:49 clinvar.vcf.gz\r\n",
      "-rw-r--r--   1 b2w  staff   277K 30 мар 16:50 clinvar.vcf.gz.tbi\r\n",
      "-rw-r--r--@  1 b2w  staff    26K 30 мар 16:57 intersected.vcf\r\n",
      "-rw-r--r--   1 b2w  staff    20K 31 мар 14:22 lab06_hplus.ipynb\r\n",
      "-rw-r--r--   1 b2w  staff    37M 30 мар 15:33 out.vcf\r\n",
      "-rw-r--r--@  1 b2w  staff   3,5M 31 мар 14:23 prof.eff.vcf\r\n",
      "-rw-r--r--@  1 b2w  staff   1,3M 31 мар 14:21 professor_intersected.vcf\r\n",
      "-rw-r--r--   1 b2w  staff   2,3K 31 мар 14:21 professor_out.hh\r\n",
      "-rw-r--r--   1 b2w  staff   1,4K 31 мар 14:21 professor_out.log\r\n",
      "-rw-r--r--@  1 b2w  staff    23M 31 мар 14:21 professor_out.vcf\r\n",
      "-rw-rw-r--@  1 b2w  staff    15M 31 мар 14:13 professor_snp.txt\r\n",
      "-rw-r--r--@  1 b2w  staff    14M 31 мар 14:21 professor_snp_filtered.txt\r\n",
      "-rw-r--r--   1 b2w  staff   796K 31 мар 14:23 snpEff_genes.txt\r\n",
      "-rw-r--r--   1 b2w  staff   345K 31 мар 14:23 snpEff_summary.html\r\n"
     ]
    }
   ],
   "source": [
    "!ls -lah"
   ]
  },
  {
   "cell_type": "code",
   "execution_count": 73,
   "metadata": {},
   "outputs": [
    {
     "name": "stdout",
     "output_type": "stream",
     "text": [
      "610526\n",
      "596265\n"
     ]
    }
   ],
   "source": [
    "with open('professor_snp.txt', 'r') as f:\n",
    "    for i in range(20):\n",
    "        f.readline()\n",
    "    \n",
    "    pr_df = pd.read_csv(f, sep='\\t', names=['rsid', 'chromosome', 'position', 'genotype'])\n",
    "pr_df = pr_df[~pr_df['genotype'].isin(['II', 'DD', 'ID', 'DI'])]\n",
    "pr_df.to_csv('professor_snp_filtered.txt', sep='\\t', header=False, index=False)"
   ]
  },
  {
   "cell_type": "code",
   "execution_count": 74,
   "metadata": {},
   "outputs": [
    {
     "name": "stdout",
     "output_type": "stream",
     "text": [
      "PLINK v1.90b6.16 64-bit (19 Feb 2020)          www.cog-genomics.org/plink/1.9/\n",
      "(C) 2005-2020 Shaun Purcell, Christopher Chang   GNU General Public License v3\n",
      "Logging to professor_out.log.\n",
      "Options in effect:\n",
      "  --23file /Users/b2w/Bioinf/Workshop/bioworkshop/H+/professor_snp_filtered.txt\n",
      "  --out professor_out\n",
      "  --recode vcf\n",
      "\n",
      "8192 MB RAM detected; reserving 4096 MB for main workspace.\n",
      "--23file: professor_out-temporary.bed + professor_out-temporary.bim +\n",
      "professor_out-temporary.fam written.\n",
      "864 variants with indel calls present.  '--snps-only no-DI' or\n",
      "--list-23-indels may be useful here.\n",
      "Inferred sex: male.\n",
      "596265 variants loaded from .bim file.\n",
      "1 person (1 male, 0 females) loaded from .fam.\n",
      "Using 1 thread (no multithreaded calculations invoked).\n",
      "Before main variant filters, 1 founder and 0 nonfounders present.\n",
      "Calculating allele frequencies... 10111213141516171819202122232425262728293031323334353637383940414243444546474849505152535455565758596061626364656667686970717273747576777879808182838485868788899091929394959697989 done.\n",
      "Warning: 103 het. haploid genotypes present (see professor_out.hh ); many\n",
      "commands treat these as missing.\n",
      "Total genotyping rate is 0.989261.\n",
      "596265 variants and 1 person pass filters and QC.\n",
      "Note: No phenotypes present.\n",
      "--recode vcf to professor_out.vcf ... 101112131415161718192021222324252627282930313233343536373839404142434445464748495051525354555657585960616263646566676869707172737475767778798081828384858687888990919293949596979899done.\n",
      "Warning: At least one VCF allele code violates the official specification;\n",
      "other tools may not accept the file.  (Valid codes must either start with a\n",
      "'<', only contain characters in {A,C,G,T,N,a,c,g,t,n}, be an isolated '*', or\n",
      "represent a breakend.)\n"
     ]
    }
   ],
   "source": [
    "!~/Prog/tools/plink_mac/plink --23file ~/Bioinf/Workshop/bioworkshop/H+/professor_snp_filtered.txt --recode vcf --out professor_out"
   ]
  },
  {
   "cell_type": "code",
   "execution_count": 75,
   "metadata": {},
   "outputs": [],
   "source": [
    "!bedtools intersect -a professor_out.vcf -b clinvar.vcf.gz > professor_intersected.vcf"
   ]
  },
  {
   "cell_type": "code",
   "execution_count": 1,
   "metadata": {},
   "outputs": [
    {
     "name": "stdout",
     "output_type": "stream",
     "text": [
      "  610546 professor_snp.txt\r\n"
     ]
    }
   ],
   "source": [
    "!wc -l professor_snp.txt"
   ]
  },
  {
   "cell_type": "markdown",
   "metadata": {},
   "source": [
    "## 1. Who are we?\n",
    "### a. Origin"
   ]
  },
  {
   "cell_type": "code",
   "execution_count": 104,
   "metadata": {},
   "outputs": [
    {
     "name": "stdout",
     "output_type": "stream",
     "text": [
      "2015\n",
      "    CHR      POS         ID REF ALT QUAL FILTER INFO FORMAT SAMPLE\n",
      "7     1  2235672  rs2843159   C   T    .      .   PR     GT    0/1\n",
      "13    1  2494330  rs2234167   A   G    .      .   PR     GT    0/1\n",
      "16    1  3328358   rs870124   C   T    .      .   PR     GT    0/1\n",
      "17    1  3328659  rs2493292   C   T    .      .   PR     GT    0/1\n",
      "18    1  3342530  rs2244013   A   G    .      .   PR     GT    0/1\n"
     ]
    }
   ],
   "source": [
    "df = pd.read_csv('professor_intersected.vcf', sep='\\t', \n",
    "                 names=['CHR', 'POS', 'ID', 'REF', 'ALT', 'QUAL', 'FILTER', 'INFO', 'FORMAT', 'SAMPLE'])\n",
    "df = df[df['ALT'] != '.']\n",
    "df = df[df['REF'] != 'N']\n",
    "print(len(df['ID']))\n",
    "print(df.head())"
   ]
  },
  {
   "cell_type": "markdown",
   "metadata": {},
   "source": [
    "<img src=\"prof.ethnicity.png\">"
   ]
  },
  {
   "cell_type": "markdown",
   "metadata": {},
   "source": [
    "### b. Annotation"
   ]
  },
  {
   "cell_type": "code",
   "execution_count": null,
   "metadata": {},
   "outputs": [],
   "source": [
    "!java -Xmx4g -jar ~/Downloads/snpEff_latest_core/snpEff/snpEff.jar -c ~/Downloads/snpEff_latest_core/snpEff/snpEff.config -v \"GRCh37.75\" ~/Bioinf/Workshop/bioworkshop/H+/professor_intersected.vcf > prof.eff.vcf"
   ]
  },
  {
   "cell_type": "markdown",
   "metadata": {},
   "source": [
    "## 2. Where are we going?\n",
    "### a. Fixes"
   ]
  },
  {
   "cell_type": "code",
   "execution_count": null,
   "metadata": {},
   "outputs": [],
   "source": [
    "Entrez.email = 'riserisen@yandex.ru'"
   ]
  },
  {
   "cell_type": "code",
   "execution_count": null,
   "metadata": {},
   "outputs": [],
   "source": [
    "i = 600\n",
    "for snp_id in df['ID'].values[i, i + 200]:\n",
    "\n",
    "    handle = Entrez.esearch(db=\"ClinVar\", term=snp_id)\n",
    "    record = Entrez.read(handle)\n",
    "    if len(record['IdList']) == 0:\n",
    "        continue\n",
    "    record_id = record['IdList'][0]\n",
    "\n",
    "    summary_handle = Entrez.esummary(db=\"ClinVar\", id=record_id)\n",
    "    summary = Entrez.read(summary_handle)['DocumentSummarySet']['DocumentSummary'][0]\n",
    "#     print(summary['allele_freq_set'])\n",
    "    if summary['clinical_significance'] != 'Benign':\n",
    "        print(snp_id)\n",
    "        print(summary['clinical_significance'])\n",
    "    "
   ]
  },
  {
   "cell_type": "code",
   "execution_count": null,
   "metadata": {},
   "outputs": [],
   "source": [
    "i = 1100\n",
    "\n",
    "for snp_id in df['ID'].values[i:i+1250]:\n",
    "    handle = Entrez.esearch(db=\"SNP\", term=snp_id)\n",
    "    record = Entrez.read(handle)\n",
    "    i += 1\n",
    "    if len(record['IdList']) == 0:\n",
    "        continue\n",
    "    record_id = record['IdList'][0]\n",
    "\n",
    "    summary_handle = Entrez.esummary(db=\"SNP\", id=record_id)\n",
    "    summary = Entrez.read(summary_handle)['DocumentSummarySet']['DocumentSummary'][0]\n",
    "    if \"p\" in summary['CLINICAL_SIGNIFICANCE']:\n",
    "        print(f'--{i}--', snp_id)\n",
    "        print(summary['CLINICAL_SIGNIFICANCE'])\n",
    "        print(summary['GENES'])\n",
    "        allele_freq_list = [float(x['FREQ'][2:5]) for x in summary['GLOBAL_MAFS']]\n",
    "        allele_freq = sum(allele_freq_list) / len(allele_freq_list)\n",
    "        print(allele_freq)"
   ]
  },
  {
   "cell_type": "markdown",
   "metadata": {},
   "source": [
    "|Reference SNP ID|Clinical significance|Gene|MAF|\n",
    "|---|---|---|---|\n",
    "|rs448740|pathogenic|FCGR3B|0.33|\n",
    "|rs3755319|pathogenic|UGT1A10|0.43|\n",
    "|rs35329108|pathogenic|SLC6A19|0.22|\n",
    "|rs460897|pathogenic, risk-factor|CFH|?|\n",
    "|rs1522296|likely-pathogenic|PAH|0.27|\n",
    "|rs11085825|likely-pathogenic|GCDH|0.2625|"
   ]
  },
  {
   "cell_type": "markdown",
   "metadata": {},
   "source": [
    "### b. Advantages"
   ]
  },
  {
   "cell_type": "markdown",
   "metadata": {},
   "source": [
    "|Reference SNP ID|Clinical significance|Gene|MAF|\n",
    "|---|---|---|---|\n",
    "|rs1800872|risk-factor,protective|IL10, IL19|0.2825|"
   ]
  },
  {
   "cell_type": "markdown",
   "metadata": {},
   "source": [
    "\n",
    "\n",
    "\n",
    "--480-- rs5743618\n",
    "protective\n",
    "[{'NAME': 'TLR1', 'GENE_ID': '7096'}]\n",
    "0.375\n",
    "--494-- rs1229984\n",
    "protective\n",
    "[{'NAME': 'ADH1B', 'GENE_ID': '125'}]\n",
    "0.08600000000000001\n",
    "--496-- rs1693482\n",
    "protective\n",
    "[{'NAME': 'ADH1C', 'GENE_ID': '126'}]\n",
    "0.36333333333333334\n",
    "\n",
    "--556-558-- rs16891982\n",
    "association,protective,benign\n",
    "[{'NAME': 'SLC45A2', 'GENE_ID': '51151'}]\n",
    "0.19666666666666666\n",
    "\n",
    "--1594-- rs1805015\n",
    "protective\n",
    "[{'NAME': 'IL4R', 'GENE_ID': '3566'}]\n",
    "0.13"
   ]
  }
 ],
 "metadata": {
  "kernelspec": {
   "display_name": "Python 3",
   "language": "python",
   "name": "python3"
  },
  "language_info": {
   "codemirror_mode": {
    "name": "ipython",
    "version": 3
   },
   "file_extension": ".py",
   "mimetype": "text/x-python",
   "name": "python",
   "nbconvert_exporter": "python",
   "pygments_lexer": "ipython3",
   "version": "3.7.4"
  }
 },
 "nbformat": 4,
 "nbformat_minor": 2
}
