{
 "cells": [
  {
   "cell_type": "markdown",
   "metadata": {},
   "source": [
    "# Dead man's teeth"
   ]
  },
  {
   "cell_type": "markdown",
   "metadata": {},
   "source": [
    "## Part 1. Amplicon sequencing"
   ]
  },
  {
   "cell_type": "code",
   "execution_count": 6,
   "metadata": {},
   "outputs": [
    {
     "name": "stdout",
     "output_type": "stream",
     "text": [
      "#SampleID\tBarcodeSequence\tLinkerPrimerSequence\tType\r\n",
      "calculus\tATCAGACACG\tGTATTACCGCGGCTGCTGGCAC\tCalculus\r\n",
      "bone\tACGAGTGCGT\tGTATTACCGCGGCTGCTGGCAC\tBone\r\n"
     ]
    }
   ],
   "source": [
    "!cat data/sample-metadata.tsv"
   ]
  },
  {
   "cell_type": "code",
   "execution_count": 8,
   "metadata": {},
   "outputs": [
    {
     "name": "stdout",
     "output_type": "stream",
     "text": [
      "Barcode + primer length:  32\n"
     ]
    }
   ],
   "source": [
    "print('Barcode + primer length: ', len('ATCAGACACGGTATTACCGCGGCTGCTGGCAC'))"
   ]
  },
  {
   "cell_type": "markdown",
   "metadata": {},
   "source": [
    "### 1. Import data"
   ]
  },
  {
   "cell_type": "code",
   "execution_count": 3,
   "metadata": {},
   "outputs": [
    {
     "name": "stdout",
     "output_type": "stream",
     "text": [
      "\u001b[32mImported data/manifest.tsv as SingleEndFastqManifestPhred33V2 to data/sequences.qza\u001b[0m\r\n"
     ]
    }
   ],
   "source": [
    "!qiime tools import --type 'SampleData[SequencesWithQuality]' --input-path data/manifest.tsv --output-path data/sequences.qza   --input-format SingleEndFastqManifestPhred33V2"
   ]
  },
  {
   "cell_type": "markdown",
   "metadata": {},
   "source": [
    "### 2. Demultiplexing and QC"
   ]
  },
  {
   "cell_type": "code",
   "execution_count": 4,
   "metadata": {},
   "outputs": [
    {
     "name": "stdout",
     "output_type": "stream",
     "text": [
      "\u001b[32mSaved Visualization to: data/sequences.qzv\u001b[0m\r\n"
     ]
    }
   ],
   "source": [
    "!qiime demux summarize   --i-data data/sequences.qza   --o-visualization data/sequences.qzv"
   ]
  },
  {
   "cell_type": "markdown",
   "metadata": {},
   "source": [
    "### 3. Feature table construction"
   ]
  },
  {
   "cell_type": "code",
   "execution_count": 23,
   "metadata": {},
   "outputs": [
    {
     "name": "stdout",
     "output_type": "stream",
     "text": [
      "\u001b[32mSaved FeatureTable[Frequency] to: data/table.qza\u001b[0m\r\n",
      "\u001b[32mSaved FeatureData[Sequence] to: data/rep-seqs.qza\u001b[0m\r\n",
      "\u001b[32mSaved SampleData[DADA2Stats] to: data/stats.qza\u001b[0m\r\n"
     ]
    }
   ],
   "source": [
    "!qiime dada2 denoise-single --i-demultiplexed-seqs data/sequences.qza --p-trim-left 32 --p-trunc-len 140 --o-representative-sequences data/rep-seqs.qza --o-table data/table.qza --o-denoising-stats data/stats.qza"
   ]
  },
  {
   "cell_type": "code",
   "execution_count": 24,
   "metadata": {},
   "outputs": [
    {
     "name": "stdout",
     "output_type": "stream",
     "text": [
      "\u001b[32mSaved Visualization to: data/stats.qzv\u001b[0m\r\n"
     ]
    }
   ],
   "source": [
    "!qiime metadata tabulate --m-input-file data/stats.qza --o-visualization data/stats.qzv"
   ]
  },
  {
   "cell_type": "markdown",
   "metadata": {},
   "source": [
    "### 4. Feature summaries"
   ]
  },
  {
   "cell_type": "code",
   "execution_count": 25,
   "metadata": {},
   "outputs": [
    {
     "name": "stdout",
     "output_type": "stream",
     "text": [
      "\u001b[32mSaved Visualization to: data/table.qzv\u001b[0m\r\n"
     ]
    }
   ],
   "source": [
    "!qiime feature-table summarize --i-table data/table.qza --o-visualization data/table.qzv --m-sample-metadata-file data/sample-metadata.tsv"
   ]
  },
  {
   "cell_type": "code",
   "execution_count": 26,
   "metadata": {},
   "outputs": [
    {
     "name": "stdout",
     "output_type": "stream",
     "text": [
      "\u001b[32mSaved Visualization to: data/rep-seqs.qzv\u001b[0m\r\n"
     ]
    }
   ],
   "source": [
    "!qiime feature-table tabulate-seqs  --i-data data/rep-seqs.qza   --o-visualization data/rep-seqs.qzv"
   ]
  },
  {
   "cell_type": "markdown",
   "metadata": {},
   "source": [
    "### 5. Taxonomic analysis"
   ]
  },
  {
   "cell_type": "code",
   "execution_count": 27,
   "metadata": {},
   "outputs": [
    {
     "name": "stdout",
     "output_type": "stream",
     "text": [
      "\u001b[32mSaved FeatureData[Taxonomy] to: data/taxonomy.qza\u001b[0m\r\n"
     ]
    }
   ],
   "source": [
    "!qiime feature-classifier classify-sklearn --i-classifier data/gg-13-8-99-nb-classifier.qza --i-reads data/rep-seqs.qza --o-classification data/taxonomy.qza"
   ]
  },
  {
   "cell_type": "code",
   "execution_count": 28,
   "metadata": {},
   "outputs": [
    {
     "name": "stdout",
     "output_type": "stream",
     "text": [
      "\u001b[32mSaved Visualization to: data/taxonomy.qzv\u001b[0m\r\n"
     ]
    }
   ],
   "source": [
    "!qiime metadata tabulate --m-input-file data/taxonomy.qza --o-visualization data/taxonomy.qzv"
   ]
  },
  {
   "cell_type": "code",
   "execution_count": 29,
   "metadata": {},
   "outputs": [
    {
     "name": "stdout",
     "output_type": "stream",
     "text": [
      "\u001b[32mSaved Visualization to: data/taxa-bar-plots.qzv\u001b[0m\r\n"
     ]
    }
   ],
   "source": [
    "!qiime taxa barplot --i-table data/table.qza --i-taxonomy data/taxonomy.qza --m-metadata-file data/sample-metadata.tsv --o-visualization data/taxa-bar-plots.qzv"
   ]
  },
  {
   "cell_type": "markdown",
   "metadata": {},
   "source": [
    "### 6. Bacterial teamwork"
   ]
  },
  {
   "cell_type": "markdown",
   "metadata": {},
   "source": [
    "The three members of the red complex are:  \n",
    "\n",
    "* Porphyromonas gingivalis  \n",
    "* Tannerella forsythia  \n",
    "* Treponema denticola  "
   ]
  },
  {
   "cell_type": "code",
   "execution_count": null,
   "metadata": {},
   "outputs": [],
   "source": []
  },
  {
   "cell_type": "markdown",
   "metadata": {},
   "source": [
    "## Part 2. Shotgun sequencing"
   ]
  },
  {
   "cell_type": "markdown",
   "metadata": {},
   "source": [
    "### 1. Shotgun sequence data profiling\n"
   ]
  },
  {
   "cell_type": "code",
   "execution_count": null,
   "metadata": {},
   "outputs": [],
   "source": [
    "!metaphlan data/G12_assembly.fna --input_type fasta --nproc 2 > data/meta_output.txt"
   ]
  },
  {
   "cell_type": "code",
   "execution_count": null,
   "metadata": {},
   "outputs": [],
   "source": [
    "!merge_metaphlan_tables.py -o hmp/merged_profile.txt hmp/*_profile.txt"
   ]
  },
  {
   "cell_type": "code",
   "execution_count": 36,
   "metadata": {},
   "outputs": [],
   "source": [
    "import pandas as pd"
   ]
  },
  {
   "cell_type": "code",
   "execution_count": 40,
   "metadata": {},
   "outputs": [],
   "source": [
    "df = pd.read_csv('hmp/merged_profile.txt', skiprows=1, sep='\\t')"
   ]
  },
  {
   "cell_type": "code",
   "execution_count": 42,
   "metadata": {},
   "outputs": [
    {
     "name": "stdout",
     "output_type": "stream",
     "text": [
      "['clade_name', 'NCBI_tax_id', 'SRS014494-Posterior_fornix_profile', 'SRS014476-Supragingival_plaque_profile', 'SRS014472-Buccal_mucosa_profile', 'SRS014470-Tongue_dorsum_profile', 'SRS014464-Anterior_nares_profile', 'SRS014459-Stool_profile']\n",
      "                                          clade_name  \\\n",
      "0                                        k__Bacteria   \n",
      "1                      k__Bacteria|p__Actinobacteria   \n",
      "2    k__Bacteria|p__Actinobacteria|c__Actinobacteria   \n",
      "3  k__Bacteria|p__Actinobacteria|c__Actinobacteri...   \n",
      "4  k__Bacteria|p__Actinobacteria|c__Actinobacteri...   \n",
      "\n",
      "                NCBI_tax_id  SRS014494-Posterior_fornix_profile  \\\n",
      "0                         2                               100.0   \n",
      "1                  2|201174                                 0.0   \n",
      "2             2|201174|1760                                 0.0   \n",
      "3       2|201174|1760|85007                                 0.0   \n",
      "4  2|201174|1760|85007|1653                                 0.0   \n",
      "\n",
      "   SRS014476-Supragingival_plaque_profile  SRS014472-Buccal_mucosa_profile  \\\n",
      "0                               100.00000                            100.0   \n",
      "1                               100.00000                              0.0   \n",
      "2                               100.00000                              0.0   \n",
      "3                                65.25681                              0.0   \n",
      "4                                65.25681                              0.0   \n",
      "\n",
      "   SRS014470-Tongue_dorsum_profile  SRS014464-Anterior_nares_profile  \\\n",
      "0                            100.0                             100.0   \n",
      "1                              0.0                               0.0   \n",
      "2                              0.0                               0.0   \n",
      "3                              0.0                               0.0   \n",
      "4                              0.0                               0.0   \n",
      "\n",
      "   SRS014459-Stool_profile  \n",
      "0                    100.0  \n",
      "1                      0.0  \n",
      "2                      0.0  \n",
      "3                      0.0  \n",
      "4                      0.0  \n"
     ]
    }
   ],
   "source": [
    "print(list(df))\n",
    "print(df.head())"
   ]
  },
  {
   "cell_type": "code",
   "execution_count": null,
   "metadata": {},
   "outputs": [],
   "source": []
  }
 ],
 "metadata": {
  "kernelspec": {
   "display_name": "Python 3",
   "language": "python",
   "name": "python3"
  },
  "language_info": {
   "codemirror_mode": {
    "name": "ipython",
    "version": 3
   },
   "file_extension": ".py",
   "mimetype": "text/x-python",
   "name": "python",
   "nbconvert_exporter": "python",
   "pygments_lexer": "ipython3",
   "version": "3.7.4"
  }
 },
 "nbformat": 4,
 "nbformat_minor": 4
}
